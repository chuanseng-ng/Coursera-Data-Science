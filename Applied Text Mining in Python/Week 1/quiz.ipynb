{
 "cells": [
  {
   "cell_type": "code",
   "execution_count": null,
   "source": [
    "#Question 1\r\n",
    "# Which of these options correspond to matching a pattern at most once?\r\n",
    "#-> ?"
   ],
   "outputs": [],
   "metadata": {}
  },
  {
   "cell_type": "code",
   "execution_count": null,
   "source": [
    "#Question 2\r\n",
    "# Which of these options correspond to matching a pattern at least twice?\r\n",
    "#-> {2,}"
   ],
   "outputs": [],
   "metadata": {}
  },
  {
   "cell_type": "code",
   "execution_count": null,
   "source": [
    "#Question 3\r\n",
    "# Which of these options correspond to matching a pattern at most thrice?\r\n",
    "#-> {,3}"
   ],
   "outputs": [],
   "metadata": {}
  },
  {
   "cell_type": "code",
   "execution_count": null,
   "source": [
    "#Question 4\r\n",
    "# Which of these options correspond to match none of the characters x, y, z?\r\n",
    "#-> [^xyz]"
   ],
   "outputs": [],
   "metadata": {}
  },
  {
   "cell_type": "code",
   "execution_count": null,
   "source": [
    "#Question 5\r\n",
    "# Which of these options correspond to match one of the characters x, y, z?\r\n",
    "#-> [xyz]"
   ],
   "outputs": [],
   "metadata": {}
  },
  {
   "cell_type": "code",
   "execution_count": null,
   "source": [
    "#Question 6 (Check)\r\n",
    "# Which of these options correspond to match the sequence xyz?\r\n",
    "#-> .xyz"
   ],
   "outputs": [],
   "metadata": {}
  }
 ],
 "metadata": {
  "orig_nbformat": 4,
  "language_info": {
   "name": "python"
  }
 },
 "nbformat": 4,
 "nbformat_minor": 2
}