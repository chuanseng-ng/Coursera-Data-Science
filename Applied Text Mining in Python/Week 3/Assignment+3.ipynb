{
 "cells": [
  {
   "cell_type": "markdown",
   "source": [
    "---\n",
    "\n",
    "_You are currently looking at **version 1.1** of this notebook. To download notebooks and datafiles, as well as get help on Jupyter notebooks in the Coursera platform, visit the [Jupyter Notebook FAQ](https://www.coursera.org/learn/python-text-mining/resources/d9pwm) course resource._\n",
    "\n",
    "---"
   ],
   "metadata": {}
  },
  {
   "cell_type": "markdown",
   "source": [
    "# Assignment 3\n",
    "\n",
    "In this assignment you will explore text message data and create models to predict if a message is spam or not. "
   ],
   "metadata": {}
  },
  {
   "cell_type": "code",
   "execution_count": null,
   "source": [
    "import pandas as pd\r\n",
    "import numpy as np\r\n",
    "\r\n",
    "spam_data = pd.read_csv('spam.csv')\r\n",
    "\r\n",
    "spam_data['target'] = np.where(spam_data['target']=='spam',1,0)\r\n",
    "spam_data.head(10)"
   ],
   "outputs": [],
   "metadata": {
    "collapsed": true
   }
  },
  {
   "cell_type": "code",
   "execution_count": null,
   "source": [
    "from sklearn.model_selection import train_test_split\r\n",
    "\r\n",
    "\r\n",
    "X_train, X_test, y_train, y_test = train_test_split(spam_data['text'], \r\n",
    "                                                    spam_data['target'], \r\n",
    "                                                    random_state=0)"
   ],
   "outputs": [],
   "metadata": {
    "collapsed": true
   }
  },
  {
   "cell_type": "markdown",
   "source": [
    "### Question 1\n",
    "What percentage of the documents in `spam_data` are spam?\n",
    "\n",
    "*This function should return a float, the percent value (i.e. $ratio * 100$).*"
   ],
   "metadata": {}
  },
  {
   "cell_type": "code",
   "execution_count": null,
   "source": [
    "def answer_one():\r\n",
    "    \r\n",
    "    ans = len(spam_data[spam_data['target'] == 1])/len(spam_data)*100\r\n",
    "    \r\n",
    "    return ans "
   ],
   "outputs": [],
   "metadata": {
    "collapsed": true
   }
  },
  {
   "cell_type": "code",
   "execution_count": null,
   "source": [
    "answer_one()"
   ],
   "outputs": [],
   "metadata": {
    "collapsed": true
   }
  },
  {
   "cell_type": "markdown",
   "source": [
    "### Question 2\n",
    "\n",
    "Fit the training data `X_train` using a Count Vectorizer with default parameters.\n",
    "\n",
    "What is the longest token in the vocabulary?\n",
    "\n",
    "*This function should return a string.*"
   ],
   "metadata": {}
  },
  {
   "cell_type": "code",
   "execution_count": null,
   "source": [
    "from sklearn.feature_extraction.text import CountVectorizer\r\n",
    "\r\n",
    "def answer_two():\r\n",
    "    \r\n",
    "    # convert the dataframe to list for the following processing \r\n",
    "    texts = spam_data['text'].T.tolist()\r\n",
    "\r\n",
    "    # cv train \r\n",
    "    cv = CountVectorizer()\r\n",
    "    cv_fit = cv.fit_transform(texts)\r\n",
    "    \r\n",
    "    # sort the words by length in order\r\n",
    "    sortedwords = sorted(cv.get_feature_names(), key=len)\r\n",
    "    \r\n",
    "    # return the result\r\n",
    "    return sortedwords[-2]"
   ],
   "outputs": [],
   "metadata": {
    "collapsed": true
   }
  },
  {
   "cell_type": "code",
   "execution_count": null,
   "source": [
    "answer_two()"
   ],
   "outputs": [],
   "metadata": {
    "collapsed": true
   }
  },
  {
   "cell_type": "markdown",
   "source": [
    "### Question 3\n",
    "\n",
    "Fit and transform the training data `X_train` using a Count Vectorizer with default parameters.\n",
    "\n",
    "Next, fit a fit a multinomial Naive Bayes classifier model with smoothing `alpha=0.1`. Find the area under the curve (AUC) score using the transformed test data.\n",
    "\n",
    "*This function should return the AUC score as a float.*"
   ],
   "metadata": {}
  },
  {
   "cell_type": "code",
   "execution_count": null,
   "source": [
    "from sklearn.naive_bayes import MultinomialNB\r\n",
    "from sklearn.metrics import roc_auc_score\r\n",
    "\r\n",
    "def answer_three():\r\n",
    "    \r\n",
    "    # convert the dataframe to list for the following processing \r\n",
    "    texts = X_train.T.tolist()\r\n",
    "\r\n",
    "    # cv train using X_train \r\n",
    "    vect = CountVectorizer().fit(X_train)\r\n",
    "    \r\n",
    "    # transform the texts in the training data to a document-term matrix\r\n",
    "    X_train_vectorized = vect.transform(X_train)\r\n",
    "\r\n",
    "    # Train the model\r\n",
    "    model = MultinomialNB(alpha=0.1)\r\n",
    "    model.fit(X_train_vectorized, y_train)\r\n",
    "\r\n",
    "    # Predict the transformed test documents\r\n",
    "    predictions = model.predict(vect.transform(X_test))\r\n",
    "\r\n",
    "    return roc_auc_score(y_test, predictions)"
   ],
   "outputs": [],
   "metadata": {
    "collapsed": true
   }
  },
  {
   "cell_type": "code",
   "execution_count": null,
   "source": [
    "answer_three()"
   ],
   "outputs": [],
   "metadata": {
    "collapsed": true
   }
  },
  {
   "cell_type": "markdown",
   "source": [
    "### Question 4\n",
    "\n",
    "Fit and transform the training data `X_train` using a Tfidf Vectorizer with default parameters.\n",
    "\n",
    "What 20 features have the smallest tf-idf and what 20 have the largest tf-idf?\n",
    "\n",
    "Put these features in a two series where each series is sorted by tf-idf value and then alphabetically by feature name. The index of the series should be the feature name, and the data should be the tf-idf.\n",
    "\n",
    "The series of 20 features with smallest tf-idfs should be sorted smallest tfidf first, the list of 20 features with largest tf-idfs should be sorted largest first. \n",
    "\n",
    "*This function should return a tuple of two series\n",
    "`(smallest tf-idfs series, largest tf-idfs series)`.*"
   ],
   "metadata": {}
  },
  {
   "cell_type": "code",
   "execution_count": null,
   "source": [
    "from sklearn.feature_extraction.text import TfidfVectorizer\r\n",
    "\r\n",
    "def answer_four():\r\n",
    "    \r\n",
    "    # Fit the TfidfVectorizer to the training data\r\n",
    "    vect = TfidfVectorizer().fit(X_train)\r\n",
    "    \r\n",
    "    # transform the texts in the training data to a document-term matrix\r\n",
    "    X_train_vectorized = vect.transform(X_train)\r\n",
    "\r\n",
    "    # find the tfidf value and order the tf_idf_index by importance  \r\n",
    "    values =  X_train_vectorized.max(0).toarray()[0]\r\n",
    "    index = vect.get_feature_names()\r\n",
    "    \r\n",
    "    # convert the list to the Series required\r\n",
    "    features_series = pd.Series(values,index = index)\r\n",
    "    \r\n",
    "    return features_series.nsmallest(20),features_series.nlargest(20)"
   ],
   "outputs": [],
   "metadata": {
    "collapsed": true
   }
  },
  {
   "cell_type": "code",
   "execution_count": null,
   "source": [
    "answer_four()"
   ],
   "outputs": [],
   "metadata": {
    "collapsed": true
   }
  },
  {
   "cell_type": "markdown",
   "source": [
    "### Question 5\n",
    "\n",
    "Fit and transform the training data `X_train` using a Tfidf Vectorizer ignoring terms that have a document frequency strictly lower than **3**.\n",
    "\n",
    "Then fit a multinomial Naive Bayes classifier model with smoothing `alpha=0.1` and compute the area under the curve (AUC) score using the transformed test data.\n",
    "\n",
    "*This function should return the AUC score as a float.*"
   ],
   "metadata": {}
  },
  {
   "cell_type": "code",
   "execution_count": null,
   "source": [
    "def answer_five():\r\n",
    "    \r\n",
    "    # Fit the TfidfVectorizer to the training data\r\n",
    "    vect = TfidfVectorizer(min_df=3).fit(X_train)\r\n",
    "    \r\n",
    "    # transform the texts in the training data to a document-term matrix\r\n",
    "    X_train_vectorized = vect.transform(X_train)\r\n",
    "\r\n",
    "    # Train the model\r\n",
    "    model = MultinomialNB(alpha=0.1)\r\n",
    "    model.fit(X_train_vectorized, y_train)\r\n",
    "\r\n",
    "    # Predict the transformed test documents\r\n",
    "    predictions = model.predict(vect.transform(X_test))\r\n",
    "\r\n",
    "    return roc_auc_score(y_test, predictions)"
   ],
   "outputs": [],
   "metadata": {
    "collapsed": true
   }
  },
  {
   "cell_type": "code",
   "execution_count": null,
   "source": [
    "answer_five()"
   ],
   "outputs": [],
   "metadata": {
    "collapsed": true
   }
  },
  {
   "cell_type": "markdown",
   "source": [
    "### Question 6\n",
    "\n",
    "What is the average length of documents (number of characters) for not spam and spam documents?\n",
    "\n",
    "*This function should return a tuple (average length not spam, average length spam).*"
   ],
   "metadata": {}
  },
  {
   "cell_type": "code",
   "execution_count": null,
   "source": [
    "def answer_six():\r\n",
    "    \r\n",
    "    # define spam and not spam text\r\n",
    "    spam_texts = spam_data[spam_data['target'] == 1]['text']\r\n",
    "    not_spam_texts = spam_data[spam_data['target'] == 0]['text']\r\n",
    "    \r\n",
    "    # get the spam and not spam length list \r\n",
    "    spam_len_list = [len(length) for length in spam_texts]\r\n",
    "    not_spam_len_list = [len(length) for length in not_spam_texts]\r\n",
    "    \r\n",
    "    # get the average length of spam and not spam texts\r\n",
    "    spam_len_avg = sum(spam_len_list)/len(spam_len_list)\r\n",
    "    not_spam_len_avg = sum(not_spam_len_list)/len(not_spam_len_list)\r\n",
    "     \r\n",
    "    return (not_spam_len_avg, spam_len_avg)"
   ],
   "outputs": [],
   "metadata": {
    "collapsed": true
   }
  },
  {
   "cell_type": "code",
   "execution_count": null,
   "source": [
    "answer_six()"
   ],
   "outputs": [],
   "metadata": {
    "collapsed": true
   }
  },
  {
   "cell_type": "markdown",
   "source": [
    "<br>\n",
    "<br>\n",
    "The following function has been provided to help you combine new features into the training data:"
   ],
   "metadata": {}
  },
  {
   "cell_type": "code",
   "execution_count": null,
   "source": [
    "def add_feature(X, feature_to_add):\r\n",
    "    \"\"\"\r\n",
    "    Returns sparse feature matrix with added feature.\r\n",
    "    feature_to_add can also be a list of features.\r\n",
    "    \"\"\"\r\n",
    "    from scipy.sparse import csr_matrix, hstack\r\n",
    "    return hstack([X, csr_matrix(feature_to_add).T], 'csr')"
   ],
   "outputs": [],
   "metadata": {
    "collapsed": true
   }
  },
  {
   "cell_type": "markdown",
   "source": [
    "### Question 7\n",
    "\n",
    "Fit and transform the training data X_train using a Tfidf Vectorizer ignoring terms that have a document frequency strictly lower than **5**.\n",
    "\n",
    "Using this document-term matrix and an additional feature, **the length of document (number of characters)**, fit a Support Vector Classification model with regularization `C=10000`. Then compute the area under the curve (AUC) score using the transformed test data.\n",
    "\n",
    "*This function should return the AUC score as a float.*"
   ],
   "metadata": {}
  },
  {
   "cell_type": "code",
   "execution_count": null,
   "source": [
    "from sklearn.svm import SVC\r\n",
    "\r\n",
    "def answer_seven():\r\n",
    "    \r\n",
    "    # Fit the TfidfVectorizer to the training data\r\n",
    "    vect = TfidfVectorizer(min_df=5).fit(X_train)\r\n",
    "    \r\n",
    "    # transform the texts in the training data to a document-term matrix\r\n",
    "    X_train_vectorized = vect.transform(X_train)\r\n",
    "    X_test_vectorized = vect.transform(X_test)\r\n",
    "    \r\n",
    "    # get the len of each X_train as a feature\r\n",
    "    X_train_len = X_train.apply(len)\r\n",
    "    X_test_len = X_test.apply(len)\r\n",
    "\r\n",
    "    # add the new feature to the original feature matrix\r\n",
    "    X_train_aug = add_feature(X_train_vectorized, X_train_len)\r\n",
    "    X_test_aug = add_feature(X_test_vectorized, X_test_len)\r\n",
    "\r\n",
    "    # Train the model\r\n",
    "    model = SVC(C = 10000)\r\n",
    "    model.fit(X_train_aug, y_train)\r\n",
    "\r\n",
    "    # Predict the transformed test documents\r\n",
    "    predictions = model.predict(X_test_aug)\r\n",
    "\r\n",
    "    return roc_auc_score(y_test, predictions)"
   ],
   "outputs": [],
   "metadata": {
    "collapsed": true
   }
  },
  {
   "cell_type": "code",
   "execution_count": null,
   "source": [
    "answer_seven()"
   ],
   "outputs": [],
   "metadata": {
    "collapsed": true
   }
  },
  {
   "cell_type": "markdown",
   "source": [
    "### Question 8\n",
    "\n",
    "What is the average number of digits per document for not spam and spam documents?\n",
    "\n",
    "*This function should return a tuple (average # digits not spam, average # digits spam).*"
   ],
   "metadata": {}
  },
  {
   "cell_type": "code",
   "execution_count": null,
   "source": [
    "def answer_eight():\r\n",
    "    \r\n",
    "    spam_digits_avg = spam_data.loc[spam_data['target'] == 1,'text'].str.count('\\d').mean()\r\n",
    "    not_spam_digits_avg = spam_data.loc[spam_data['target'] == 0,'text'].str.count('\\d').mean()\r\n",
    "    \r\n",
    "    return (not_spam_digits_avg, spam_digits_avg)"
   ],
   "outputs": [],
   "metadata": {
    "collapsed": true
   }
  },
  {
   "cell_type": "code",
   "execution_count": null,
   "source": [
    "answer_eight()"
   ],
   "outputs": [],
   "metadata": {
    "collapsed": true
   }
  },
  {
   "cell_type": "markdown",
   "source": [
    "### Question 9\n",
    "\n",
    "Fit and transform the training data `X_train` using a Tfidf Vectorizer ignoring terms that have a document frequency strictly lower than **5** and using **word n-grams from n=1 to n=3** (unigrams, bigrams, and trigrams).\n",
    "\n",
    "Using this document-term matrix and the following additional features:\n",
    "* the length of document (number of characters)\n",
    "* **number of digits per document**\n",
    "\n",
    "fit a Logistic Regression model with regularization `C=100`. Then compute the area under the curve (AUC) score using the transformed test data.\n",
    "\n",
    "*This function should return the AUC score as a float.*"
   ],
   "metadata": {}
  },
  {
   "cell_type": "code",
   "execution_count": null,
   "source": [
    "from sklearn.linear_model import LogisticRegression\r\n",
    "\r\n",
    "def answer_nine():\r\n",
    "    \r\n",
    "    # Fit the TfidfVectorizer to the training data\r\n",
    "    vect = TfidfVectorizer(min_df=5, ngram_range=(1,3)).fit(X_train)\r\n",
    "    \r\n",
    "    # transform the texts in the training data to a document-term matrix\r\n",
    "    X_train_vectorized = vect.transform(X_train)\r\n",
    "    X_test_vectorized = vect.transform(X_test)\r\n",
    "    \r\n",
    "    # get the len of each X_train as a feature\r\n",
    "    X_train_len = X_train.apply(len)\r\n",
    "    X_test_len = X_test.apply(len)\r\n",
    "    \r\n",
    "    # find the number of digits per document\r\n",
    "    X_train_digits_len = X_train.str.count('\\d')\r\n",
    "    X_test_digits_len = X_test.str.count('\\d')\r\n",
    "    \r\n",
    "    # add the new feature to the original feature matrix\r\n",
    "    X_train_aug_1 = add_feature(X_train_vectorized, X_train_len)\r\n",
    "    X_train_aug_2 = add_feature(X_train_aug_1, X_train_digits_len)\r\n",
    "    \r\n",
    "    X_test_aug_1 = add_feature(X_test_vectorized, X_test_len)\r\n",
    "    X_test_aug_2 = add_feature(X_test_aug_1, X_test_digits_len)\r\n",
    "\r\n",
    "    # Train the model\r\n",
    "    model = LogisticRegression(C = 100)\r\n",
    "    model.fit(X_train_aug_2, y_train)\r\n",
    "\r\n",
    "    # Predict the transformed test documents\r\n",
    "    predictions = model.predict(X_test_aug_2)\r\n",
    "\r\n",
    "    return roc_auc_score(y_test, predictions)"
   ],
   "outputs": [],
   "metadata": {
    "collapsed": true
   }
  },
  {
   "cell_type": "code",
   "execution_count": null,
   "source": [
    "answer_nine()"
   ],
   "outputs": [],
   "metadata": {
    "collapsed": true
   }
  },
  {
   "cell_type": "markdown",
   "source": [
    "### Question 10\n",
    "\n",
    "What is the average number of non-word characters (anything other than a letter, digit or underscore) per document for not spam and spam documents?\n",
    "\n",
    "*Hint: Use `\\w` and `\\W` character classes*\n",
    "\n",
    "*This function should return a tuple (average # non-word characters not spam, average # non-word characters spam).*"
   ],
   "metadata": {}
  },
  {
   "cell_type": "code",
   "execution_count": null,
   "source": [
    "def answer_ten():\r\n",
    "    \r\n",
    "    spam_char_avg = spam_data.loc[spam_data['target'] == 1,'text'].str.count('\\W').mean()\r\n",
    "    \r\n",
    "    not_spam_char_avg = spam_data.loc[spam_data['target'] == 0,'text'].str.count('\\W').mean()\r\n",
    "    \r\n",
    "    return (not_spam_char_avg, spam_char_avg)"
   ],
   "outputs": [],
   "metadata": {
    "collapsed": true
   }
  },
  {
   "cell_type": "code",
   "execution_count": null,
   "source": [
    "answer_ten()"
   ],
   "outputs": [],
   "metadata": {
    "collapsed": true
   }
  },
  {
   "cell_type": "markdown",
   "source": [
    "### Question 11\n",
    "\n",
    "Fit and transform the training data X_train using a Count Vectorizer ignoring terms that have a document frequency strictly lower than **5** and using **character n-grams from n=2 to n=5.**\n",
    "\n",
    "To tell Count Vectorizer to use character n-grams pass in `analyzer='char_wb'` which creates character n-grams only from text inside word boundaries. This should make the model more robust to spelling mistakes.\n",
    "\n",
    "Using this document-term matrix and the following additional features:\n",
    "* the length of document (number of characters)\n",
    "* number of digits per document\n",
    "* **number of non-word characters (anything other than a letter, digit or underscore.)**\n",
    "\n",
    "fit a Logistic Regression model with regularization C=100. Then compute the area under the curve (AUC) score using the transformed test data.\n",
    "\n",
    "Also **find the 10 smallest and 10 largest coefficients from the model** and return them along with the AUC score in a tuple.\n",
    "\n",
    "The list of 10 smallest coefficients should be sorted smallest first, the list of 10 largest coefficients should be sorted largest first.\n",
    "\n",
    "The three features that were added to the document term matrix should have the following names should they appear in the list of coefficients:\n",
    "['length_of_doc', 'digit_count', 'non_word_char_count']\n",
    "\n",
    "*This function should return a tuple `(AUC score as a float, smallest coefs list, largest coefs list)`.*"
   ],
   "metadata": {}
  },
  {
   "cell_type": "code",
   "execution_count": null,
   "source": [
    "def answer_eleven(): #Incorrect\r\n",
    "    \r\n",
    "    # Fit the TfidfVectorizer to the training data\r\n",
    "    vect = TfidfVectorizer(min_df=5, analyzer='char_wb', ngram_range=(2,5)).fit(X_train)\r\n",
    "    \r\n",
    "    # transform the texts in the training data to a document-term matrix\r\n",
    "    X_train_vectorized = vect.transform(X_train)\r\n",
    "    X_test_vectorized = vect.transform(X_test)\r\n",
    "    \r\n",
    "    # get the len of each X_train as a feature\r\n",
    "    X_train_len = X_train.apply(len)\r\n",
    "    X_test_len = X_test.apply(len)\r\n",
    "    \r\n",
    "    # find the number of digits per document\r\n",
    "    X_train_digits_len = X_train.str.count('\\d')\r\n",
    "    X_test_digits_len = X_test.str.count('\\d')\r\n",
    "    \r\n",
    "    # find the average number of non-word characters\r\n",
    "    X_train_spam_char_len = X_train.str.count('\\W')\r\n",
    "    X_test_spam_char_len = X_test.str.count('\\W')\r\n",
    "    \r\n",
    "    \r\n",
    "    # add the new feature to the original feature matrix\r\n",
    "    X_train_aug_1 = add_feature(X_train_vectorized, X_train_len)\r\n",
    "    X_train_aug_2 = add_feature(X_train_aug_1, X_train_digits_len)\r\n",
    "    X_train_aug_3 = add_feature(X_train_aug_2, X_train_spam_char_len)\r\n",
    "    \r\n",
    "    X_test_aug_1 = add_feature(X_test_vectorized, X_test_len)\r\n",
    "    X_test_aug_2 = add_feature(X_test_aug_1, X_test_digits_len)\r\n",
    "    X_test_aug_3 = add_feature(X_test_aug_2, X_test_spam_char_len)\r\n",
    "\r\n",
    "    # Train the model\r\n",
    "    model = LogisticRegression(C = 100)\r\n",
    "    model.fit(X_train_aug_3, y_train)\r\n",
    "\r\n",
    "    # Predict the transformed test documents\r\n",
    "    predictions = model.predict(X_test_aug_3)\r\n",
    "\r\n",
    "    # get feature names from the vect while adding the new feature names\r\n",
    "    feature_names = np.array(vect.get_feature_names() + [\"length_of_doc\", \"digit_count\", \"non_word_char_count\"])\r\n",
    "\r\n",
    "    # sort the importance of the features\r\n",
    "    sorted_coef_index = model.coef_[0].argsort()\r\n",
    "\r\n",
    "    # find the most and least important features\r\n",
    "    smallest_coef_list = feature_names[sorted_coef_index[:10]].tolist()\r\n",
    "    largest_coef_list = feature_names[sorted_coef_index[:-11:-1]].tolist()\r\n",
    "\r\n",
    "    return (roc_auc_score(y_test, predictions), smallest_coef_list, largest_coef_list)"
   ],
   "outputs": [],
   "metadata": {
    "collapsed": true
   }
  },
  {
   "cell_type": "code",
   "execution_count": null,
   "source": [
    "answer_eleven()"
   ],
   "outputs": [],
   "metadata": {
    "collapsed": true
   }
  }
 ],
 "metadata": {
  "coursera": {
   "course_slug": "python-text-mining",
   "graded_item_id": "Pn19K",
   "launcher_item_id": "y1juS",
   "part_id": "ctlgo"
  },
  "kernelspec": {
   "display_name": "Python 3",
   "language": "python",
   "name": "python3"
  },
  "language_info": {
   "codemirror_mode": {
    "name": "ipython",
    "version": 3
   },
   "file_extension": ".py",
   "mimetype": "text/x-python",
   "name": "python",
   "nbconvert_exporter": "python",
   "pygments_lexer": "ipython3",
   "version": "3.6.2"
  }
 },
 "nbformat": 4,
 "nbformat_minor": 2
}