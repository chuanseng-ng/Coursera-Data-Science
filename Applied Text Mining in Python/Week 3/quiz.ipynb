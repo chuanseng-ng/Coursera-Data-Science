{
 "cells": [
  {
   "cell_type": "code",
   "execution_count": null,
   "source": [
    "#Question 1\r\n",
    "# You are given a dataset on movie reviews with a 1,000 labeled reviews.\r\n",
    "# The labels are one of five movie genres: Aciton, Comedy, Drama, Horror, and Sci-Fi.\r\n",
    "# The dataset jas roughly 200 movie reviews for each movie genre.\r\n",
    "# Your first task is to learn a supervised classifier to identify just the reviews for Comedy movies from the dataset.\r\n",
    "# Such a task is:\r\n",
    "#-> Two-class (Binary) classification"
   ],
   "outputs": [],
   "metadata": {}
  },
  {
   "cell_type": "code",
   "execution_count": null,
   "source": [
    "#Question 2\r\n",
    "# The dataset available for the first task is:\r\n",
    "#-> Skewed"
   ],
   "outputs": [],
   "metadata": {}
  },
  {
   "cell_type": "code",
   "execution_count": null,
   "source": [
    "#Question 3\r\n",
    "# Suppose you decide to train a support vector machine classifier for this first task.\r\n",
    "# The methodology you will employ will be a:\r\n",
    "#-> C. Single binary classifier"
   ],
   "outputs": [],
   "metadata": {}
  },
  {
   "cell_type": "code",
   "execution_count": null,
   "source": [
    "#Question 4\r\n",
    "# You are given a dataset on movie reviews with a 1,000 labeled reviews.\r\n",
    "# The labels are one of five movie genres: Aciton, Comedy, Drama, Horror, and Sci-Fi.\r\n",
    "# The dataset jas roughly 200 movie reviews for each movie genre.\r\n",
    "# Your second task is to learn to identify all five movie genres.\r\n",
    "# Such a task is\r\n",
    "#-> Multi-class classification"
   ],
   "outputs": [],
   "metadata": {}
  },
  {
   "cell_type": "code",
   "execution_count": null,
   "source": [
    "#Question 5\r\n",
    "# The dataset available for the second task is:\r\n",
    "#-> Balanced"
   ],
   "outputs": [],
   "metadata": {}
  },
  {
   "cell_type": "code",
   "execution_count": null,
   "source": [
    "#Question 6\r\n",
    "# Suppose you decide to train a support vector machine classifier for the second task.\r\n",
    "# The methodology you will employ will be a:\r\n",
    "#-> Either A or B"
   ],
   "outputs": [],
   "metadata": {}
  },
  {
   "cell_type": "code",
   "execution_count": null,
   "source": [
    "#Question 7 (Incorrect)\r\n",
    "# How many binary classifiers will you need to train for the second task using the one-vs-rest classification approach?\r\n",
    "#-> 10"
   ],
   "outputs": [],
   "metadata": {}
  }
 ],
 "metadata": {
  "orig_nbformat": 4,
  "language_info": {
   "name": "python"
  }
 },
 "nbformat": 4,
 "nbformat_minor": 2
}