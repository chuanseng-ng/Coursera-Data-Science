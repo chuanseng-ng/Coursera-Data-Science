{
 "cells": [
  {
   "cell_type": "code",
   "execution_count": null,
   "source": [
    "#Question 1\r\n",
    "# The function to use to make a string variable, string1, uppercase is:\r\n",
    "#-> string1.upper()"
   ],
   "outputs": [],
   "metadata": {}
  },
  {
   "cell_type": "code",
   "execution_count": null,
   "source": [
    "#Question 2\r\n",
    "# A string variable, string2, has some lagging whitespace characters. You would remove these using:\r\n",
    "#-> string2.rstrip()"
   ],
   "outputs": [],
   "metadata": {}
  },
  {
   "cell_type": "code",
   "execution_count": null,
   "source": [
    "#Question 3\r\n",
    "# What does NLTK's function word_tokenize() do?\r\n",
    "#-> It splits a sentence into words."
   ],
   "outputs": [],
   "metadata": {}
  },
  {
   "cell_type": "code",
   "execution_count": null,
   "source": [
    "#Question 4\r\n",
    "# What is a sentence parser typically used for?\r\n",
    "#-> It is used to parse sentences to derive their most likely syntax tree structures."
   ],
   "outputs": [],
   "metadata": {}
  },
  {
   "cell_type": "code",
   "execution_count": null,
   "source": [
    "#Question 5\r\n",
    "# If you want to map all derivationally related words to their root verb using NLTK, you will use:\r\n",
    "#-> Lemmatizer"
   ],
   "outputs": [],
   "metadata": {}
  }
 ],
 "metadata": {
  "orig_nbformat": 4,
  "language_info": {
   "name": "python"
  }
 },
 "nbformat": 4,
 "nbformat_minor": 2
}