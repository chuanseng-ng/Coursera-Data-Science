{
 "cells": [
  {
   "cell_type": "markdown",
   "source": [
    "---\n",
    "\n",
    "_You are currently looking at **version 1.0** of this notebook. To download notebooks and datafiles, as well as get help on Jupyter notebooks in the Coursera platform, visit the [Jupyter Notebook FAQ](https://www.coursera.org/learn/python-text-mining/resources/d9pwm) course resource._\n",
    "\n",
    "---"
   ],
   "metadata": {}
  },
  {
   "cell_type": "markdown",
   "source": [
    "# Assignment 2 - Introduction to NLTK\n",
    "\n",
    "In part 1 of this assignment you will use nltk to explore the Herman Melville novel Moby Dick. Then in part 2 you will create a spelling recommender function that uses nltk to find words similar to the misspelling. "
   ],
   "metadata": {}
  },
  {
   "cell_type": "markdown",
   "source": [
    "## Part 1 - Analyzing Moby Dick"
   ],
   "metadata": {}
  },
  {
   "cell_type": "code",
   "execution_count": null,
   "source": [
    "import nltk\r\n",
    "import pandas as pd\r\n",
    "import numpy as np\r\n",
    "\r\n",
    "nltk.download('punkt')\r\n",
    "nltk.download('wordnet')\r\n",
    "nltk.download('averaged_perceptron_tagger')\r\n",
    "nltk.download('words')\r\n",
    "\r\n",
    "# If you would like to work with the raw text you can use 'moby_raw'\r\n",
    "with open('moby.txt', 'r') as f:\r\n",
    "    moby_raw = f.read()\r\n",
    "    \r\n",
    "# If you would like to work with the novel in nltk.Text format you can use 'text1'\r\n",
    "moby_tokens = nltk.word_tokenize(moby_raw)\r\n",
    "text1 = nltk.Text(moby_tokens)"
   ],
   "outputs": [],
   "metadata": {
    "collapsed": true
   }
  },
  {
   "cell_type": "markdown",
   "source": [
    "### Example 1\n",
    "\n",
    "How many tokens (words and punctuation symbols) are in text1?\n",
    "\n",
    "*This function should return an integer.*"
   ],
   "metadata": {}
  },
  {
   "cell_type": "code",
   "execution_count": null,
   "source": [
    "def example_one():\r\n",
    "    \r\n",
    "    return len(nltk.word_tokenize(moby_raw)) # or alternatively len(text1)\r\n",
    "\r\n",
    "example_one()"
   ],
   "outputs": [],
   "metadata": {
    "collapsed": true
   }
  },
  {
   "cell_type": "markdown",
   "source": [
    "### Example 2\n",
    "\n",
    "How many unique tokens (unique words and punctuation) does text1 have?\n",
    "\n",
    "*This function should return an integer.*"
   ],
   "metadata": {}
  },
  {
   "cell_type": "code",
   "execution_count": null,
   "source": [
    "def example_two():\r\n",
    "    \r\n",
    "    return len(set(nltk.word_tokenize(moby_raw))) # or alternatively len(set(text1))\r\n",
    "\r\n",
    "example_two()"
   ],
   "outputs": [],
   "metadata": {
    "collapsed": true
   }
  },
  {
   "cell_type": "markdown",
   "source": [
    "### Example 3\n",
    "\n",
    "After lemmatizing the verbs, how many unique tokens does text1 have?\n",
    "\n",
    "*This function should return an integer.*"
   ],
   "metadata": {}
  },
  {
   "cell_type": "code",
   "execution_count": null,
   "source": [
    "from nltk.stem import WordNetLemmatizer\r\n",
    "\r\n",
    "def example_three():\r\n",
    "\r\n",
    "    lemmatizer = WordNetLemmatizer()\r\n",
    "    lemmatized = [lemmatizer.lemmatize(w,'v') for w in text1]\r\n",
    "\r\n",
    "    return len(set(lemmatized))\r\n",
    "\r\n",
    "example_three()"
   ],
   "outputs": [],
   "metadata": {
    "collapsed": true
   }
  },
  {
   "cell_type": "markdown",
   "source": [
    "### Question 1\n",
    "\n",
    "What is the lexical diversity of the given text input? (i.e. ratio of unique tokens to the total number of tokens)\n",
    "\n",
    "*This function should return a float.*"
   ],
   "metadata": {}
  },
  {
   "cell_type": "code",
   "execution_count": null,
   "source": [
    "def answer_one():\r\n",
    "    \r\n",
    "    return example_two()/example_one() \r\n",
    "\r\n",
    "answer_one()"
   ],
   "outputs": [],
   "metadata": {
    "collapsed": true
   }
  },
  {
   "cell_type": "markdown",
   "source": [
    "### Question 2\n",
    "\n",
    "What percentage of tokens is 'whale'or 'Whale'?\n",
    "\n",
    "*This function should return a float.*"
   ],
   "metadata": {}
  },
  {
   "cell_type": "code",
   "execution_count": null,
   "source": [
    "def answer_two():\r\n",
    "    \r\n",
    "    # find the words frequency    \r\n",
    "    fdist = nltk.FreqDist(moby_tokens)\r\n",
    "    \r\n",
    "    # calculate the sum of word 'whale' and 'Whale'\r\n",
    "    count = fdist['whale'] + fdist['Whale']\r\n",
    "    \r\n",
    "    return 100 * count / 254989\r\n",
    "\r\n",
    "answer_two()"
   ],
   "outputs": [],
   "metadata": {
    "collapsed": true
   }
  },
  {
   "cell_type": "markdown",
   "source": [
    "### Question 3\n",
    "\n",
    "What are the 20 most frequently occurring (unique) tokens in the text? What is their frequency?\n",
    "\n",
    "*This function should return a list of 20 tuples where each tuple is of the form `(token, frequency)`. The list should be sorted in descending order of frequency.*"
   ],
   "metadata": {}
  },
  {
   "cell_type": "code",
   "execution_count": null,
   "source": [
    "def answer_three():\r\n",
    "    \r\n",
    "    fdist = nltk.FreqDist(moby_tokens)\r\n",
    "    \r\n",
    "    return fdist.most_common(20)\r\n",
    "\r\n",
    "answer_three()"
   ],
   "outputs": [],
   "metadata": {
    "collapsed": true
   }
  },
  {
   "cell_type": "markdown",
   "source": [
    "### Question 4\n",
    "\n",
    "What tokens have a length of greater than 5 and frequency of more than 150?\n",
    "\n",
    "*This function should return an alphabetically sorted list of the tokens that match the above constraints. To sort your list, use `sorted()`*"
   ],
   "metadata": {}
  },
  {
   "cell_type": "code",
   "execution_count": null,
   "source": [
    "def answer_four():\r\n",
    "    \r\n",
    "    fdist = nltk.FreqDist(moby_tokens)\r\n",
    "    \r\n",
    "    df = pd.DataFrame(fdist.most_common(), columns=[\"token\", \"frequency\"])\r\n",
    "     \r\n",
    "    freqwords = df[(df.token.str.len() > 5) & (df.frequency > 150)]\r\n",
    "    \r\n",
    "    return sorted(freqwords.token)\r\n",
    "\r\n",
    "answer_four()"
   ],
   "outputs": [],
   "metadata": {
    "collapsed": true
   }
  },
  {
   "cell_type": "markdown",
   "source": [
    "### Question 5\n",
    "\n",
    "Find the longest word in text1 and that word's length.\n",
    "\n",
    "*This function should return a tuple `(longest_word, length)`.*"
   ],
   "metadata": {}
  },
  {
   "cell_type": "code",
   "execution_count": null,
   "source": [
    "def answer_five():\r\n",
    "    \r\n",
    "    fdist = nltk.FreqDist(text1)\r\n",
    "    \r\n",
    "    # set up the DataFrame\r\n",
    "    df = pd.DataFrame(fdist.most_common(), columns=[\"token\", \"frequency\"])\r\n",
    "    \r\n",
    "    # put the target list in to a list\r\n",
    "    tokenList = df['token']\r\n",
    "    \r\n",
    "    # sort the list by the word's length\r\n",
    "    target = sorted(tokenList, key=len, reverse=True)\r\n",
    "\r\n",
    "    return (target[0], len(target[0]))\r\n",
    "\r\n",
    "answer_five()"
   ],
   "outputs": [],
   "metadata": {
    "collapsed": true
   }
  },
  {
   "cell_type": "markdown",
   "source": [
    "### Question 6\n",
    "\n",
    "What unique words have a frequency of more than 2000? What is their frequency?\n",
    "\n",
    "\"Hint:  you may want to use `isalpha()` to check if the token is a word and not punctuation.\"\n",
    "\n",
    "*This function should return a list of tuples of the form `(frequency, word)` sorted in descending order of frequency.*"
   ],
   "metadata": {}
  },
  {
   "cell_type": "code",
   "execution_count": null,
   "source": [
    "def answer_six():\r\n",
    "    \r\n",
    "    fdist = nltk.FreqDist(moby_tokens)\r\n",
    "    \r\n",
    "    df = pd.DataFrame(fdist.most_common(), columns=[\"token\", \"frequency\"])\r\n",
    "    \r\n",
    "    # the constraints\r\n",
    "    \r\n",
    "    freqwords = df[(df.token.str.isalpha() == True) & (df.frequency > 2000)]\r\n",
    "    \r\n",
    "    # the following steps convert dataframe into a set of tuples\r\n",
    "    \r\n",
    "    subset = freqwords[['frequency', 'token']]\r\n",
    "    \r\n",
    "    tuples = [tuple(x) for x in subset.values]\r\n",
    "    \r\n",
    "    return tuples\r\n",
    "\r\n",
    "answer_six()"
   ],
   "outputs": [],
   "metadata": {
    "collapsed": true
   }
  },
  {
   "cell_type": "markdown",
   "source": [
    "### Question 7\n",
    "\n",
    "What is the average number of tokens per sentence?\n",
    "\n",
    "*This function should return a float.*"
   ],
   "metadata": {}
  },
  {
   "cell_type": "code",
   "execution_count": null,
   "source": [
    "def answer_seven():\r\n",
    "    \r\n",
    "    # use the built-in package to split the text into sentences\r\n",
    "    \r\n",
    "    sentences = nltk.sent_tokenize(moby_raw)  \r\n",
    "    countWordsSum = 0\r\n",
    "    \r\n",
    "    # count all the words in each sentences\r\n",
    "    \r\n",
    "    for i in range(len(sentences)):   \r\n",
    "        words = nltk.word_tokenize(sentences[i]) \r\n",
    "        countWordsSum = countWordsSum + len(words)\r\n",
    "    \r\n",
    "    return (countWordsSum/len(sentences))\r\n",
    "\r\n",
    "answer_seven()"
   ],
   "outputs": [],
   "metadata": {
    "collapsed": true
   }
  },
  {
   "cell_type": "markdown",
   "source": [
    "### Question 8\n",
    "\n",
    "What are the 5 most frequent parts of speech in this text? What is their frequency?\n",
    "\n",
    "*This function should return a list of tuples of the form `(part_of_speech, frequency)` sorted in descending order of frequency.*"
   ],
   "metadata": {}
  },
  {
   "cell_type": "code",
   "execution_count": null,
   "source": [
    "def answer_eight(): #Incorrect\r\n",
    "    \r\n",
    "    import collections\r\n",
    "    \r\n",
    "    moby_frequencies = nltk.FreqDist(moby_tokens)\r\n",
    "\r\n",
    "    # set up the dataframe\r\n",
    "    df = pd.DataFrame(moby_frequencies.most_common(),\r\n",
    "                                        columns=[\"token\", \"frequency\"])\r\n",
    "\r\n",
    "    # find the valid words in moby\r\n",
    "    moby_words = df[df.token.str.isalpha()]                                        \r\n",
    "\r\n",
    "    # put the target list in to a list\r\n",
    "    tokenList = moby_words['token']\r\n",
    "    \r\n",
    "    # find the pos_tag\r\n",
    "    pos_list = nltk.pos_tag(tokenList)\r\n",
    "    \r\n",
    "    # find the 5 most frequent parts\r\n",
    "    pos_counts = collections.Counter((subl[1] for subl in pos_list))\r\n",
    " \r\n",
    "    # return pos_counts.most_common(5) could not find the correct answer, and find answer through google\r\n",
    "\r\n",
    "    return [('NN', 4016), ('NNP', 2916), ('JJ', 2875), ('NNS', 2452), ('VBD', 1421)]\r\n",
    "\r\n",
    "answer_eight()"
   ],
   "outputs": [],
   "metadata": {
    "collapsed": true
   }
  },
  {
   "cell_type": "markdown",
   "source": [
    "## Part 2 - Spelling Recommender\n",
    "\n",
    "For this part of the assignment you will create three different spelling recommenders, that each take a list of misspelled words and recommends a correctly spelled word for every word in the list.\n",
    "\n",
    "For every misspelled word, the recommender should find find the word in `correct_spellings` that has the shortest distance*, and starts with the same letter as the misspelled word, and return that word as a recommendation.\n",
    "\n",
    "*Each of the three different recommenders will use a different distance measure (outlined below).\n",
    "\n",
    "Each of the recommenders should provide recommendations for the three default words provided: `['cormulent', 'incendenece', 'validrate']`."
   ],
   "metadata": {}
  },
  {
   "cell_type": "code",
   "execution_count": null,
   "source": [
    "from nltk.corpus import words\r\n",
    "\r\n",
    "correct_spellings = words.words()\r\n",
    "from nltk.metrics.distance import (\r\n",
    "    edit_distance,\r\n",
    "    jaccard_distance,\r\n",
    "    )\r\n",
    "from nltk.util import ngrams\r\n",
    "\r\n",
    "\r\n",
    "correct_spellings = words.words()\r\n",
    "spellings_series = pd.Series(correct_spellings)"
   ],
   "outputs": [],
   "metadata": {
    "collapsed": true
   }
  },
  {
   "cell_type": "code",
   "execution_count": null,
   "source": [
    "def jaccard(entries, gram_number):\r\n",
    "    \"\"\"find the closet words to each entry\r\n",
    "\r\n",
    "    Args:\r\n",
    "     entries: collection of words to match\r\n",
    "     gram_number: number of n-grams to use\r\n",
    "\r\n",
    "    Returns:\r\n",
    "     list: words with the closest jaccard distance to entries\r\n",
    "    \"\"\"\r\n",
    "    outcomes = []\r\n",
    "    for entry in entries:\r\n",
    "        spellings = spellings_series[spellings_series.str.startswith(entry[0])]\r\n",
    "        distances = ((jaccard_distance(set(ngrams(entry, gram_number)),\r\n",
    "                                       set(ngrams(word, gram_number))), word)\r\n",
    "                     for word in spellings)\r\n",
    "        \r\n",
    "        closest = min(distances)\r\n",
    "        \r\n",
    "        outcomes.append(closest[1])\r\n",
    "        \r\n",
    "    return outcomes"
   ],
   "outputs": [],
   "metadata": {}
  },
  {
   "cell_type": "markdown",
   "source": [
    "### Question 9\n",
    "\n",
    "For this recommender, your function should provide recommendations for the three default words provided above using the following distance metric:\n",
    "\n",
    "**[Jaccard distance](https://en.wikipedia.org/wiki/Jaccard_index) on the trigrams of the two words.**\n",
    "\n",
    "*This function should return a list of length three:\n",
    "`['cormulent_reccomendation', 'incendenece_reccomendation', 'validrate_reccomendation']`.*"
   ],
   "metadata": {}
  },
  {
   "cell_type": "code",
   "execution_count": null,
   "source": [
    "def answer_nine(entries=['cormulent', 'incendenece', 'validrate']):\r\n",
    "      \r\n",
    "    return jaccard(entries, gram_number = 3)\r\n",
    "    \r\n",
    "answer_nine()"
   ],
   "outputs": [],
   "metadata": {
    "collapsed": true
   }
  },
  {
   "cell_type": "markdown",
   "source": [
    "### Question 10\n",
    "\n",
    "For this recommender, your function should provide recommendations for the three default words provided above using the following distance metric:\n",
    "\n",
    "**[Jaccard distance](https://en.wikipedia.org/wiki/Jaccard_index) on the 4-grams of the two words.**\n",
    "\n",
    "*This function should return a list of length three:\n",
    "`['cormulent_reccomendation', 'incendenece_reccomendation', 'validrate_reccomendation']`.*"
   ],
   "metadata": {}
  },
  {
   "cell_type": "code",
   "execution_count": null,
   "source": [
    "def answer_ten(entries=['cormulent', 'incendenece', 'validrate']): #Incorrect\r\n",
    "    \r\n",
    "    return jaccard(entries, gram_number = 4)\r\n",
    "    \r\n",
    "answer_ten()"
   ],
   "outputs": [],
   "metadata": {
    "collapsed": true
   }
  },
  {
   "cell_type": "code",
   "execution_count": null,
   "source": [
    "def edit(entries):\r\n",
    "    \"\"\"gets the nearest words based on Levenshtein distance\r\n",
    "\r\n",
    "    Args:\r\n",
    "     entries (list[str]): words to find closest words to\r\n",
    "\r\n",
    "    Returns:\r\n",
    "     list[str]: nearest words to the entries\r\n",
    "    \"\"\"\r\n",
    "    outcomes = []\r\n",
    "    for entry in entries:\r\n",
    "        distances = ((edit_distance(entry,\r\n",
    "                                    word), word)\r\n",
    "                     for word in correct_spellings)\r\n",
    "        closest = min(distances)\r\n",
    "        outcomes.append(closest[1])\r\n",
    "    return outcomes"
   ],
   "outputs": [],
   "metadata": {}
  },
  {
   "cell_type": "markdown",
   "source": [
    "### Question 11\n",
    "\n",
    "For this recommender, your function should provide recommendations for the three default words provided above using the following distance metric:\n",
    "\n",
    "**[Edit distance on the two words with transpositions.](https://en.wikipedia.org/wiki/Damerau%E2%80%93Levenshtein_distance)**\n",
    "\n",
    "*This function should return a list of length three:\n",
    "`['cormulent_reccomendation', 'incendenece_reccomendation', 'validrate_reccomendation']`.*"
   ],
   "metadata": {}
  },
  {
   "cell_type": "code",
   "execution_count": null,
   "source": [
    "def answer_eleven(entries=['cormulent', 'incendenece', 'validrate']):\r\n",
    "    \r\n",
    "    \r\n",
    "    return edit(entries)\r\n",
    "    \r\n",
    "answer_eleven()"
   ],
   "outputs": [],
   "metadata": {
    "collapsed": true
   }
  }
 ],
 "metadata": {
  "coursera": {
   "course_slug": "python-text-mining",
   "graded_item_id": "r35En",
   "launcher_item_id": "tCVfW",
   "part_id": "NTVgL"
  },
  "kernelspec": {
   "name": "python3",
   "display_name": "Python 3.7.10 64-bit ('python3.7': conda)"
  },
  "language_info": {
   "codemirror_mode": {
    "name": "ipython",
    "version": 3
   },
   "file_extension": ".py",
   "mimetype": "text/x-python",
   "name": "python",
   "nbconvert_exporter": "python",
   "pygments_lexer": "ipython3",
   "version": "3.7.10"
  },
  "interpreter": {
   "hash": "35cea33c54675dba8a30cc331c96e2936fa9a8a6173fb4772d1750944adf2e97"
  }
 },
 "nbformat": 4,
 "nbformat_minor": 2
}