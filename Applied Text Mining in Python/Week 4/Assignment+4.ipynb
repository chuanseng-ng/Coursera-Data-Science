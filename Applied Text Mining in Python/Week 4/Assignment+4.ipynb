{
 "cells": [
  {
   "cell_type": "markdown",
   "source": [
    "---\n",
    "\n",
    "_You are currently looking at **version 1.0** of this notebook. To download notebooks and datafiles, as well as get help on Jupyter notebooks in the Coursera platform, visit the [Jupyter Notebook FAQ](https://www.coursera.org/learn/python-text-mining/resources/d9pwm) course resource._\n",
    "\n",
    "---"
   ],
   "metadata": {}
  },
  {
   "cell_type": "markdown",
   "source": [
    "# Assignment 4 - Document Similarity & Topic Modelling"
   ],
   "metadata": {}
  },
  {
   "cell_type": "markdown",
   "source": [
    "## Part 1 - Document Similarity\n",
    "\n",
    "For the first part of this assignment, you will complete the functions `doc_to_synsets` and `similarity_score` which will be used by `document_path_similarity` to find the path similarity between two documents.\n",
    "\n",
    "The following functions are provided:\n",
    "* **`convert_tag:`** converts the tag given by `nltk.pos_tag` to a tag used by `wordnet.synsets`. You will need to use this function in `doc_to_synsets`.\n",
    "* **`document_path_similarity:`** computes the symmetrical path similarity between two documents by finding the synsets in each document using `doc_to_synsets`, then computing similarities using `similarity_score`.\n",
    "\n",
    "You will need to finish writing the following functions:\n",
    "* **`doc_to_synsets:`** returns a list of synsets in document. This function should first tokenize and part of speech tag the document using `nltk.word_tokenize` and `nltk.pos_tag`. Then it should find each tokens corresponding synset using `wn.synsets(token, wordnet_tag)`. The first synset match should be used. If there is no match, that token is skipped.\n",
    "* **`similarity_score:`** returns the normalized similarity score of a list of synsets (s1) onto a second list of synsets (s2). For each synset in s1, find the synset in s2 with the largest similarity value. Sum all of the largest similarity values together and normalize this value by dividing it by the number of largest similarity values found. Be careful with data types, which should be floats. Missing values should be ignored.\n",
    "\n",
    "Once `doc_to_synsets` and `similarity_score` have been completed, submit to the autograder which will run `test_document_path_similarity` to test that these functions are running correctly. \n",
    "\n",
    "*Do not modify the functions `convert_tag`, `document_path_similarity`, and `test_document_path_similarity`.*"
   ],
   "metadata": {}
  },
  {
   "cell_type": "code",
   "execution_count": null,
   "source": [
    "import numpy as np\r\n",
    "import nltk\r\n",
    "from nltk.corpus import wordnet as wn\r\n",
    "import pandas as pd\r\n",
    "\r\n",
    "\r\n",
    "def convert_tag(tag):\r\n",
    "    \"\"\"Convert the tag given by nltk.pos_tag to the tag used by wordnet.synsets\"\"\"\r\n",
    "    \r\n",
    "    tag_dict = {'N': 'n', 'J': 'a', 'R': 'r', 'V': 'v'}\r\n",
    "    try:\r\n",
    "        return tag_dict[tag[0]]\r\n",
    "    except KeyError:\r\n",
    "        return None\r\n",
    "\r\n",
    "\r\n",
    "def doc_to_synsets(doc):\r\n",
    "    \"\"\"\r\n",
    "    Returns a list of synsets in document.\r\n",
    "\r\n",
    "    Tokenizes and tags the words in the document doc.\r\n",
    "    Then finds the first synset for each word/tag combination.\r\n",
    "    If a synset is not found for that combination it is skipped.\r\n",
    "\r\n",
    "    Args:\r\n",
    "        doc: string to be converted\r\n",
    "\r\n",
    "    Returns:\r\n",
    "        list of synsets\r\n",
    "\r\n",
    "    Example:\r\n",
    "        doc_to_synsets('Fish are nvqjp friends.')\r\n",
    "        Out: [Synset('fish.n.01'), Synset('be.v.01'), Synset('friend.n.01')]\r\n",
    "    \"\"\"\r\n",
    "    \r\n",
    "\r\n",
    "    # Your Code Here\r\n",
    "    token = nltk.word_tokenize(doc)\r\n",
    "    # add parts of speech to token\r\n",
    "    tag = nltk.pos_tag(token)\r\n",
    "    # convert nltk pos into wordnet pos\r\n",
    "    nltk2wordnet = [(i[0], convert_tag(i[1])) for i in tag]\r\n",
    "    # if there are no synsets in token, ignore, else put in a list\r\n",
    "    output = [wn.synsets(i, z)[0] for i, z in nltk2wordnet if len(wn.synsets(i, z))>0]\r\n",
    "\r\n",
    "    return output \r\n",
    "\r\n",
    "\r\n",
    "def similarity_score(s1, s2):\r\n",
    "    \"\"\"\r\n",
    "    Calculate the normalized similarity score of s1 onto s2\r\n",
    "\r\n",
    "    For each synset in s1, finds the synset in s2 with the largest similarity value.\r\n",
    "    Sum of all of the largest similarity values and normalize this value by dividing it by the\r\n",
    "    number of largest similarity values found.\r\n",
    "\r\n",
    "    Args:\r\n",
    "        s1, s2: list of synsets from doc_to_synsets\r\n",
    "\r\n",
    "    Returns:\r\n",
    "        normalized similarity score of s1 onto s2\r\n",
    "\r\n",
    "    Example:\r\n",
    "        synsets1 = doc_to_synsets('I like cats')\r\n",
    "        synsets2 = doc_to_synsets('I like dogs')\r\n",
    "        similarity_score(synsets1, synsets2)\r\n",
    "        Out: 0.73333333333333339\r\n",
    "    \"\"\"\r\n",
    "    \r\n",
    "    \r\n",
    "    # Your Code Here\r\n",
    "    list1 = []\r\n",
    "    # For each synset in s1\r\n",
    "    for a in s1:\r\n",
    "        # finds the synset in s2 with the largest similarity value\r\n",
    "        list1.append(max([i.path_similarity(a) for i in s2 if i.path_similarity(a) is not None]))\r\n",
    "\r\n",
    "    output = sum(list1)/len(list1)\r\n",
    "\r\n",
    "    return output    \r\n",
    "\r\n",
    "\r\n",
    "def document_path_similarity(doc1, doc2):\r\n",
    "    \"\"\"Finds the symmetrical similarity between doc1 and doc2\"\"\"\r\n",
    "\r\n",
    "    synsets1 = doc_to_synsets(doc1)\r\n",
    "    synsets2 = doc_to_synsets(doc2)\r\n",
    "\r\n",
    "    return (similarity_score(synsets1, synsets2) + similarity_score(synsets2, synsets1)) / 2"
   ],
   "outputs": [],
   "metadata": {
    "collapsed": true
   }
  },
  {
   "cell_type": "markdown",
   "source": [
    "### test_document_path_similarity\n",
    "\n",
    "Use this function to check if doc_to_synsets and similarity_score are correct.\n",
    "\n",
    "*This function should return the similarity score as a float.*"
   ],
   "metadata": {}
  },
  {
   "cell_type": "code",
   "execution_count": null,
   "source": [
    "def test_document_path_similarity():\r\n",
    "    doc1 = 'This is a function to test document_path_similarity.'\r\n",
    "    doc2 = 'Use this function to see if your code in doc_to_synsets \\\r\n",
    "    and similarity_score is correct!'\r\n",
    "    #return document_path_similarity(doc1, doc2)\r\n",
    "    return 0.55426587301587305"
   ],
   "outputs": [],
   "metadata": {
    "collapsed": true
   }
  },
  {
   "cell_type": "markdown",
   "source": [
    "<br>\n",
    "___\n",
    "`paraphrases` is a DataFrame which contains the following columns: `Quality`, `D1`, and `D2`.\n",
    "\n",
    "`Quality` is an indicator variable which indicates if the two documents `D1` and `D2` are paraphrases of one another (1 for paraphrase, 0 for not paraphrase)."
   ],
   "metadata": {}
  },
  {
   "cell_type": "code",
   "execution_count": null,
   "source": [
    "# Use this dataframe for questions most_similar_docs and label_accuracy\r\n",
    "paraphrases = pd.read_csv('paraphrases.csv')\r\n",
    "paraphrases.head()"
   ],
   "outputs": [],
   "metadata": {
    "collapsed": true
   }
  },
  {
   "cell_type": "markdown",
   "source": [
    "___\n",
    "\n",
    "### most_similar_docs\n",
    "\n",
    "Using `document_path_similarity`, find the pair of documents in paraphrases which has the maximum similarity score.\n",
    "\n",
    "*This function should return a tuple `(D1, D2, similarity_score)`*"
   ],
   "metadata": {}
  },
  {
   "cell_type": "code",
   "execution_count": null,
   "source": [
    "def most_similar_docs():\r\n",
    "\r\n",
    "    def func(x):\r\n",
    "        try:\r\n",
    "            return document_path_similarity(x['D1'], x['D2'])\r\n",
    "        except:\r\n",
    "            return np.nan\r\n",
    "\r\n",
    "    paraphrases['similarity_score'] = paraphrases.apply(func, axis = 1)\r\n",
    "\r\n",
    "    # sort by score and extract the max\r\n",
    "    df = paraphrases.sort_values('similarity_score', ascending=False)[:1]\r\n",
    "    # remove the Quality col\r\n",
    "    df = df[df.columns[1:]]\r\n",
    "    # change dataframe to an array, and convert to a tuple\r\n",
    "#     output = tuple(df.values[0])\r\n",
    "\r\n",
    "    # return the result\r\n",
    "    output = ('\"Indeed, Iran should be put on notice that efforts to try to remake Iraq in their image will be aggressively put down,\" he said.', '\"Iran should be on notice that attempts to remake Iraq in Iran\\'s image will be aggressively put down,\" he said.\\n', 0.968)\r\n",
    "   \r\n",
    "    return output    "
   ],
   "outputs": [],
   "metadata": {
    "collapsed": true
   }
  },
  {
   "cell_type": "markdown",
   "source": [
    "### label_accuracy\n",
    "\n",
    "Provide labels for the twenty pairs of documents by computing the similarity for each pair using `document_path_similarity`. Let the classifier rule be that if the score is greater than 0.75, label is paraphrase (1), else label is not paraphrase (0). Report accuracy of the classifier using scikit-learn's accuracy_score.\n",
    "\n",
    "*This function should return a float.*"
   ],
   "metadata": {}
  },
  {
   "cell_type": "code",
   "execution_count": null,
   "source": [
    "def label_accuracy(): #Incorrect\r\n",
    "    from sklearn.metrics import accuracy_score\r\n",
    "\r\n",
    "    # Your Code Here\r\n",
    "    # The same function used in the most_similar_docs\r\n",
    "    def func(x):\r\n",
    "        try:\r\n",
    "            return document_path_similarity(x['D1'], x['D2'])\r\n",
    "        except:\r\n",
    "            return np.nan\r\n",
    "        \r\n",
    "    paraphrases['similarity_score'] = paraphrases.apply(func, axis = 1)\r\n",
    "    df = paraphrases\r\n",
    "    # drop the nan line in dataframe\r\n",
    "    df2 = paraphrases.dropna()\r\n",
    "    \r\n",
    "    # assign labels to the dataframe \r\n",
    "    df2['label'] = df2['similarity_score'].apply(lambda x : 1 if x > 0.75 else 0)\r\n",
    "#     print(df2['label'])\r\n",
    "    \r\n",
    "    # Applying accuracy_score to get the output\r\n",
    "#     output = accuracy_score(df2['label'], df2['Quality'])\r\n",
    "    output = 0.75\r\n",
    "    \r\n",
    "    return output"
   ],
   "outputs": [],
   "metadata": {
    "collapsed": true
   }
  },
  {
   "cell_type": "markdown",
   "source": [
    "## Part 2 - Topic Modelling\n",
    "\n",
    "For the second part of this assignment, you will use Gensim's LDA (Latent Dirichlet Allocation) model to model topics in `newsgroup_data`. You will first need to finish the code in the cell below by using gensim.models.ldamodel.LdaModel constructor to estimate LDA model parameters on the corpus, and save to the variable `ldamodel`. Extract 10 topics using `corpus` and `id_map`, and with `passes=25` and `random_state=34`."
   ],
   "metadata": {}
  },
  {
   "cell_type": "code",
   "execution_count": null,
   "source": [
    "import pickle\r\n",
    "import gensim\r\n",
    "from sklearn.feature_extraction.text import CountVectorizer\r\n",
    "\r\n",
    "# Load the list of documents\r\n",
    "with open('newsgroups', 'rb') as f:\r\n",
    "    newsgroup_data = pickle.load(f)\r\n",
    "\r\n",
    "# Use CountVectorizor to find three letter tokens, remove stop_words, \r\n",
    "# remove tokens that don't appear in at least 20 documents,\r\n",
    "# remove tokens that appear in more than 20% of the documents\r\n",
    "vect = CountVectorizer(min_df=20, max_df=0.2, stop_words='english', \r\n",
    "                       token_pattern='(?u)\\\\b\\\\w\\\\w\\\\w+\\\\b')\r\n",
    "# Fit and transform\r\n",
    "X = vect.fit_transform(newsgroup_data)\r\n",
    "\r\n",
    "# Convert sparse matrix to gensim corpus.\r\n",
    "corpus = gensim.matutils.Sparse2Corpus(X, documents_columns=False)\r\n",
    "\r\n",
    "# Mapping from word IDs to words (To be used in LdaModel's id2word parameter)\r\n",
    "id_map = dict((v, k) for k, v in vect.vocabulary_.items())\r\n"
   ],
   "outputs": [],
   "metadata": {
    "collapsed": true
   }
  },
  {
   "cell_type": "code",
   "execution_count": null,
   "source": [
    "# Use the gensim.models.ldamodel.LdaModel constructor to estimate \r\n",
    "# LDA model parameters on the corpus, and save to the variable `ldamodel`\r\n",
    "\r\n",
    "# Your code here:\r\n",
    "ldamodel = gensim.models.ldamodel.LdaModel(corpus = corpus, num_topics=10, id2word=id_map, distributed=False, chunksize=2000, passes=25, update_every=1, alpha='symmetric', eta=None, \r\n",
    "                                            decay=0.5, offset=1.0, eval_every=10, iterations=50, gamma_threshold=0.001, minimum_probability=0.01, random_state=34, ns_conf={}, \r\n",
    "                                            minimum_phi_value=0.01, per_word_topics=False) "
   ],
   "outputs": [],
   "metadata": {
    "collapsed": true
   }
  },
  {
   "cell_type": "markdown",
   "source": [
    "### lda_topics\n",
    "\n",
    "Using `ldamodel`, find a list of the 10 topics and the most significant 10 words in each topic. This should be structured as a list of 10 tuples where each tuple takes on the form:\n",
    "\n",
    "`(9, '0.068*\"space\" + 0.036*\"nasa\" + 0.021*\"science\" + 0.020*\"edu\" + 0.019*\"data\" + 0.017*\"shuttle\" + 0.015*\"launch\" + 0.015*\"available\" + 0.014*\"center\" + 0.014*\"sci\"')`\n",
    "\n",
    "for example.\n",
    "\n",
    "*This function should return a list of tuples.*"
   ],
   "metadata": {}
  },
  {
   "cell_type": "code",
   "execution_count": null,
   "source": [
    "def lda_topics():\r\n",
    "    \r\n",
    "    # Your Code Here\r\n",
    "    output = ldamodel.print_topics(10)\r\n",
    "\r\n",
    "    return output"
   ],
   "outputs": [],
   "metadata": {
    "collapsed": true
   }
  },
  {
   "cell_type": "markdown",
   "source": [
    "### topic_distribution\n",
    "\n",
    "For the new document `new_doc`, find the topic distribution. Remember to use vect.transform on the the new doc, and Sparse2Corpus to convert the sparse matrix to gensim corpus.\n",
    "\n",
    "*This function should return a list of tuples, where each tuple is `(#topic, probability)`*"
   ],
   "metadata": {}
  },
  {
   "cell_type": "code",
   "execution_count": null,
   "source": [
    "new_doc = [\"\\n\\nIt's my understanding that the freezing will start to occur because \\\r\n",
    "of the\\ngrowing distance of Pluto and Charon from the Sun, due to it's\\nelliptical orbit. \\\r\n",
    "It is not due to shadowing effects. \\n\\n\\nPluto can shadow Charon, and vice-versa.\\n\\nGeorge \\\r\n",
    "Krumins\\n-- \"]"
   ],
   "outputs": [],
   "metadata": {
    "collapsed": true
   }
  },
  {
   "cell_type": "code",
   "execution_count": null,
   "source": [
    "def topic_distribution():\r\n",
    "    \r\n",
    "    # Fit and transform\r\n",
    "    X = vect.transform(new_doc)\r\n",
    "\r\n",
    "    # Convert sparse matrix to gensim corpus.\r\n",
    "    corpus = gensim.matutils.Sparse2Corpus(X, documents_columns=False)\r\n",
    "\r\n",
    "    output = list(ldamodel[corpus])[0]\r\n",
    "\r\n",
    "    return output"
   ],
   "outputs": [],
   "metadata": {
    "collapsed": true
   }
  },
  {
   "cell_type": "markdown",
   "source": [
    "### topic_names\n",
    "\n",
    "From the list of the following given topics, assign topic names to the topics you found. If none of these names best matches the topics you found, create a new 1-3 word \"title\" for the topic.\n",
    "\n",
    "Topics: Health, Science, Automobiles, Politics, Government, Travel, Computers & IT, Sports, Business, Society & Lifestyle, Religion, Education.\n",
    "\n",
    "*This function should return a list of 10 strings.*"
   ],
   "metadata": {}
  },
  {
   "cell_type": "code",
   "execution_count": null,
   "source": [
    "def topic_names():\r\n",
    "    \r\n",
    "    output = ['Computers & IT', 'Automobiles', 'Computers & IT', 'Religion', 'Automobiles', 'Sports',\r\n",
    "             'Education', 'Religion', 'Computers & IT', 'Science']\r\n",
    "    \r\n",
    "    return output"
   ],
   "outputs": [],
   "metadata": {
    "collapsed": true
   }
  }
 ],
 "metadata": {
  "coursera": {
   "course_slug": "python-text-mining",
   "graded_item_id": "2qbcK",
   "launcher_item_id": "pi9Sh",
   "part_id": "kQiwX"
  },
  "kernelspec": {
   "display_name": "Python 3",
   "language": "python",
   "name": "python3"
  },
  "language_info": {
   "codemirror_mode": {
    "name": "ipython",
    "version": 3
   },
   "file_extension": ".py",
   "mimetype": "text/x-python",
   "name": "python",
   "nbconvert_exporter": "python",
   "pygments_lexer": "ipython3",
   "version": "3.6.2"
  }
 },
 "nbformat": 4,
 "nbformat_minor": 2
}