{
 "cells": [
  {
   "cell_type": "code",
   "execution_count": null,
   "source": [
    "#Question 1\r\n",
    "# Which of the following is not included in WordNet:\r\n",
    "#-> Pronunciation"
   ],
   "outputs": [],
   "metadata": {}
  },
  {
   "cell_type": "code",
   "execution_count": null,
   "source": [
    "#Question 2\r\n",
    "# If the shortest distance between words A and B in the WordNet hierarchy is 6, the path-based similarity measure PathSim(A,B) would be:\r\n",
    "#-> 1/(6+1) = 1/7 = 0.143"
   ],
   "outputs": [],
   "metadata": {}
  },
  {
   "cell_type": "code",
   "execution_count": null,
   "source": [
    "#Question 3\r\n",
    "# When computing the similarity between words C and D, the distributional similarity based metric gives a higher score than a path-based similarity measure.\r\n",
    "# What can be inferred from this observations?\r\n",
    "#-> Nothing can be inferred. The similarity values from different measures cannot be directly compared."
   ],
   "outputs": [],
   "metadata": {}
  },
  {
   "cell_type": "code",
   "execution_count": null,
   "source": [
    "#Question 4\r\n",
    "# Which of the following approaches can be used to recognize monetary values (like USD 100, JPY 1000, etc)?\r\n",
    "#-> All of the above"
   ],
   "outputs": [],
   "metadata": {}
  },
  {
   "cell_type": "code",
   "execution_count": null,
   "source": [
    "#Question 5\r\n",
    "# Which of the following is not given as input for a topic modeling setup?\r\n",
    "#-> The topics"
   ],
   "outputs": [],
   "metadata": {}
  }
 ],
 "metadata": {
  "orig_nbformat": 4,
  "language_info": {
   "name": "python"
  }
 },
 "nbformat": 4,
 "nbformat_minor": 2
}