{
 "cells": [
  {
   "cell_type": "markdown",
   "source": [
    "---\n",
    "\n",
    "_You are currently looking at **version 1.1** of this notebook. To download notebooks and datafiles, as well as get help on Jupyter notebooks in the Coursera platform, visit the [Jupyter Notebook FAQ](https://www.coursera.org/learn/python-machine-learning/resources/bANLa) course resource._\n",
    "\n",
    "---"
   ],
   "metadata": {}
  },
  {
   "cell_type": "markdown",
   "source": [
    "# Applied Machine Learning: Module 2 (Supervised Learning, Part I)"
   ],
   "metadata": {}
  },
  {
   "cell_type": "markdown",
   "source": [
    "## Preamble and Review"
   ],
   "metadata": {}
  },
  {
   "cell_type": "code",
   "execution_count": null,
   "source": [
    "#%matplotlib notebook\r\n",
    "import numpy as np\r\n",
    "import pandas as pd\r\n",
    "import seaborn as sn\r\n",
    "import matplotlib.pyplot as plt\r\n",
    "\r\n",
    "from sklearn.model_selection import train_test_split\r\n",
    "from sklearn.neighbors import KNeighborsClassifier\r\n",
    "\r\n",
    "np.set_printoptions(precision=2)\r\n",
    "\r\n",
    "\r\n",
    "fruits = pd.read_table('../readonly/fruit_data_with_colors.txt')\r\n",
    "\r\n",
    "feature_names_fruits = ['height', 'width', 'mass', 'color_score']\r\n",
    "X_fruits = fruits[feature_names_fruits]\r\n",
    "y_fruits = fruits['fruit_label']\r\n",
    "target_names_fruits = ['apple', 'mandarin', 'orange', 'lemon']\r\n",
    "\r\n",
    "X_fruits_2d = fruits[['height', 'width']]\r\n",
    "y_fruits_2d = fruits['fruit_label']\r\n",
    "\r\n",
    "X_train, X_test, y_train, y_test = train_test_split(X_fruits, y_fruits, random_state=0)\r\n",
    "\r\n",
    "from sklearn.preprocessing import MinMaxScaler\r\n",
    "scaler = MinMaxScaler()\r\n",
    "X_train_scaled = scaler.fit_transform(X_train)\r\n",
    "# we must apply the scaling to the test set that we computed for the training set\r\n",
    "X_test_scaled = scaler.transform(X_test)\r\n",
    "\r\n",
    "knn = KNeighborsClassifier(n_neighbors = 5)\r\n",
    "knn.fit(X_train_scaled, y_train)\r\n",
    "print('Accuracy of K-NN classifier on training set: {:.2f}'\r\n",
    "     .format(knn.score(X_train_scaled, y_train)))\r\n",
    "print('Accuracy of K-NN classifier on test set: {:.2f}'\r\n",
    "     .format(knn.score(X_test_scaled, y_test)))\r\n",
    "\r\n",
    "example_fruit = [[5.5, 2.2, 10, 0.70]]\r\n",
    "example_fruit_scaled = scaler.transform(example_fruit)\r\n",
    "print('Predicted fruit type for ', example_fruit, ' is ', \r\n",
    "          target_names_fruits[knn.predict(example_fruit_scaled)[0]-1])"
   ],
   "outputs": [],
   "metadata": {
    "collapsed": false
   }
  },
  {
   "cell_type": "markdown",
   "source": [
    "## Datasets"
   ],
   "metadata": {}
  },
  {
   "cell_type": "code",
   "execution_count": null,
   "source": [
    "from sklearn.datasets import make_classification, make_blobs\r\n",
    "from matplotlib.colors import ListedColormap\r\n",
    "from sklearn.datasets import load_breast_cancer\r\n",
    "from adspy_shared_utilities import load_crime_dataset\r\n",
    "\r\n",
    "cmap_bold = ListedColormap(['#FFFF00', '#00FF00', '#0000FF','#000000'])\r\n",
    "\r\n",
    "\r\n",
    "# synthetic dataset for simple regression\r\n",
    "from sklearn.datasets import make_regression\r\n",
    "plt.figure()\r\n",
    "plt.title('Sample regression problem with one input variable')\r\n",
    "X_R1, y_R1 = make_regression(n_samples = 100, n_features=1,\r\n",
    "                            n_informative=1, bias = 150.0,\r\n",
    "                            noise = 30, random_state=0)\r\n",
    "plt.scatter(X_R1, y_R1, marker= 'o', s=50)\r\n",
    "plt.show()\r\n",
    "\r\n",
    "\r\n",
    "# synthetic dataset for more complex regression\r\n",
    "from sklearn.datasets import make_friedman1\r\n",
    "plt.figure()\r\n",
    "plt.title('Complex regression problem with one input variable')\r\n",
    "X_F1, y_F1 = make_friedman1(n_samples = 100,\r\n",
    "                           n_features = 7, random_state=0)\r\n",
    "\r\n",
    "plt.scatter(X_F1[:, 2], y_F1, marker= 'o', s=50)\r\n",
    "plt.show()\r\n",
    "\r\n",
    "# synthetic dataset for classification (binary) \r\n",
    "plt.figure()\r\n",
    "plt.title('Sample binary classification problem with two informative features')\r\n",
    "X_C2, y_C2 = make_classification(n_samples = 100, n_features=2,\r\n",
    "                                n_redundant=0, n_informative=2,\r\n",
    "                                n_clusters_per_class=1, flip_y = 0.1,\r\n",
    "                                class_sep = 0.5, random_state=0)\r\n",
    "plt.scatter(X_C2[:, 0], X_C2[:, 1], c=y_C2,\r\n",
    "           marker= 'o', s=50, cmap=cmap_bold)\r\n",
    "plt.show()\r\n",
    "\r\n",
    "\r\n",
    "# more difficult synthetic dataset for classification (binary) \r\n",
    "# with classes that are not linearly separable\r\n",
    "X_D2, y_D2 = make_blobs(n_samples = 100, n_features = 2, centers = 8,\r\n",
    "                       cluster_std = 1.3, random_state = 4)\r\n",
    "y_D2 = y_D2 % 2\r\n",
    "plt.figure()\r\n",
    "plt.title('Sample binary classification problem with non-linearly separable classes')\r\n",
    "plt.scatter(X_D2[:,0], X_D2[:,1], c=y_D2,\r\n",
    "           marker= 'o', s=50, cmap=cmap_bold)\r\n",
    "plt.show()\r\n",
    "\r\n",
    "\r\n",
    "# Breast cancer dataset for classification\r\n",
    "cancer = load_breast_cancer()\r\n",
    "(X_cancer, y_cancer) = load_breast_cancer(return_X_y = True)\r\n",
    "\r\n",
    "\r\n",
    "# Communities and Crime dataset\r\n",
    "(X_crime, y_crime) = load_crime_dataset()"
   ],
   "outputs": [],
   "metadata": {
    "collapsed": false,
    "scrolled": false
   }
  },
  {
   "cell_type": "markdown",
   "source": [
    "## K-Nearest Neighbors"
   ],
   "metadata": {}
  },
  {
   "cell_type": "markdown",
   "source": [
    "### Classification"
   ],
   "metadata": {}
  },
  {
   "cell_type": "code",
   "execution_count": null,
   "source": [
    "from adspy_shared_utilities import plot_two_class_knn\r\n",
    "\r\n",
    "X_train, X_test, y_train, y_test = train_test_split(X_C2, y_C2,\r\n",
    "                                                   random_state=0)\r\n",
    "\r\n",
    "plot_two_class_knn(X_train, y_train, 1, 'uniform', X_test, y_test)\r\n",
    "plot_two_class_knn(X_train, y_train, 3, 'uniform', X_test, y_test)\r\n",
    "plot_two_class_knn(X_train, y_train, 11, 'uniform', X_test, y_test)"
   ],
   "outputs": [],
   "metadata": {
    "collapsed": false,
    "scrolled": false
   }
  },
  {
   "cell_type": "markdown",
   "source": [
    "### Regression"
   ],
   "metadata": {}
  },
  {
   "cell_type": "code",
   "execution_count": null,
   "source": [
    "from sklearn.neighbors import KNeighborsRegressor\r\n",
    "\r\n",
    "X_train, X_test, y_train, y_test = train_test_split(X_R1, y_R1, random_state = 0)\r\n",
    "\r\n",
    "knnreg = KNeighborsRegressor(n_neighbors = 5).fit(X_train, y_train)\r\n",
    "\r\n",
    "print(knnreg.predict(X_test))\r\n",
    "print('R-squared test score: {:.3f}'\r\n",
    "     .format(knnreg.score(X_test, y_test)))"
   ],
   "outputs": [],
   "metadata": {
    "collapsed": false
   }
  },
  {
   "cell_type": "code",
   "execution_count": null,
   "source": [
    "fig, subaxes = plt.subplots(1, 2, figsize=(8,4))\r\n",
    "X_predict_input = np.linspace(-3, 3, 50).reshape(-1,1)\r\n",
    "X_train, X_test, y_train, y_test = train_test_split(X_R1[0::5], y_R1[0::5], random_state = 0)\r\n",
    "\r\n",
    "for thisaxis, K in zip(subaxes, [1, 3]):\r\n",
    "    knnreg = KNeighborsRegressor(n_neighbors = K).fit(X_train, y_train)\r\n",
    "    y_predict_output = knnreg.predict(X_predict_input)\r\n",
    "    thisaxis.set_xlim([-2.5, 0.75])\r\n",
    "    thisaxis.plot(X_predict_input, y_predict_output, '^', markersize = 10,\r\n",
    "                 label='Predicted', alpha=0.8)\r\n",
    "    thisaxis.plot(X_train, y_train, 'o', label='True Value', alpha=0.8)\r\n",
    "    thisaxis.set_xlabel('Input feature')\r\n",
    "    thisaxis.set_ylabel('Target value')\r\n",
    "    thisaxis.set_title('KNN regression (K={})'.format(K))\r\n",
    "    thisaxis.legend()\r\n",
    "plt.tight_layout()"
   ],
   "outputs": [],
   "metadata": {
    "collapsed": false
   }
  },
  {
   "cell_type": "markdown",
   "source": [
    "### Regression model complexity as a function of K"
   ],
   "metadata": {}
  },
  {
   "cell_type": "code",
   "execution_count": null,
   "source": [
    "# plot k-NN regression on sample dataset for different values of K\r\n",
    "fig, subaxes = plt.subplots(5, 1, figsize=(5,20))\r\n",
    "X_predict_input = np.linspace(-3, 3, 500).reshape(-1,1)\r\n",
    "X_train, X_test, y_train, y_test = train_test_split(X_R1, y_R1,\r\n",
    "                                                   random_state = 0)\r\n",
    "\r\n",
    "for thisaxis, K in zip(subaxes, [1, 3, 7, 15, 55]):\r\n",
    "    knnreg = KNeighborsRegressor(n_neighbors = K).fit(X_train, y_train)\r\n",
    "    y_predict_output = knnreg.predict(X_predict_input)\r\n",
    "    train_score = knnreg.score(X_train, y_train)\r\n",
    "    test_score = knnreg.score(X_test, y_test)\r\n",
    "    thisaxis.plot(X_predict_input, y_predict_output)\r\n",
    "    thisaxis.plot(X_train, y_train, 'o', alpha=0.9, label='Train')\r\n",
    "    thisaxis.plot(X_test, y_test, '^', alpha=0.9, label='Test')\r\n",
    "    thisaxis.set_xlabel('Input feature')\r\n",
    "    thisaxis.set_ylabel('Target value')\r\n",
    "    thisaxis.set_title('KNN Regression (K={})\\n\\\r\n",
    "Train $R^2 = {:.3f}$,  Test $R^2 = {:.3f}$'\r\n",
    "                      .format(K, train_score, test_score))\r\n",
    "    thisaxis.legend()\r\n",
    "    plt.tight_layout(pad=0.4, w_pad=0.5, h_pad=1.0)\r\n"
   ],
   "outputs": [],
   "metadata": {
    "collapsed": false,
    "scrolled": false
   }
  },
  {
   "cell_type": "markdown",
   "source": [
    "## Linear models for regression"
   ],
   "metadata": {}
  },
  {
   "cell_type": "markdown",
   "source": [
    "### Linear regression"
   ],
   "metadata": {}
  },
  {
   "cell_type": "code",
   "execution_count": null,
   "source": [
    "from sklearn.linear_model import LinearRegression\r\n",
    "\r\n",
    "X_train, X_test, y_train, y_test = train_test_split(X_R1, y_R1,\r\n",
    "                                                   random_state = 0)\r\n",
    "linreg = LinearRegression().fit(X_train, y_train)\r\n",
    "\r\n",
    "print('linear model coeff (w): {}'\r\n",
    "     .format(linreg.coef_))\r\n",
    "print('linear model intercept (b): {:.3f}'\r\n",
    "     .format(linreg.intercept_))\r\n",
    "print('R-squared score (training): {:.3f}'\r\n",
    "     .format(linreg.score(X_train, y_train)))\r\n",
    "print('R-squared score (test): {:.3f}'\r\n",
    "     .format(linreg.score(X_test, y_test)))"
   ],
   "outputs": [],
   "metadata": {
    "collapsed": false
   }
  },
  {
   "cell_type": "markdown",
   "source": [
    "### Linear regression: example plot "
   ],
   "metadata": {}
  },
  {
   "cell_type": "code",
   "execution_count": null,
   "source": [
    "plt.figure(figsize=(5,4))\r\n",
    "plt.scatter(X_R1, y_R1, marker= 'o', s=50, alpha=0.8)\r\n",
    "plt.plot(X_R1, linreg.coef_ * X_R1 + linreg.intercept_, 'r-')\r\n",
    "plt.title('Least-squares linear regression')\r\n",
    "plt.xlabel('Feature value (x)')\r\n",
    "plt.ylabel('Target value (y)')\r\n",
    "plt.show()"
   ],
   "outputs": [],
   "metadata": {
    "collapsed": false
   }
  },
  {
   "cell_type": "code",
   "execution_count": null,
   "source": [
    "X_train, X_test, y_train, y_test = train_test_split(X_crime, y_crime,\r\n",
    "                                                   random_state = 0)\r\n",
    "linreg = LinearRegression().fit(X_train, y_train)\r\n",
    "\r\n",
    "print('Crime dataset')\r\n",
    "print('linear model intercept: {}'\r\n",
    "     .format(linreg.intercept_))\r\n",
    "print('linear model coeff:\\n{}'\r\n",
    "     .format(linreg.coef_))\r\n",
    "print('R-squared score (training): {:.3f}'\r\n",
    "     .format(linreg.score(X_train, y_train)))\r\n",
    "print('R-squared score (test): {:.3f}'\r\n",
    "     .format(linreg.score(X_test, y_test)))"
   ],
   "outputs": [],
   "metadata": {
    "collapsed": false
   }
  },
  {
   "cell_type": "markdown",
   "source": [
    "### Ridge regression"
   ],
   "metadata": {}
  },
  {
   "cell_type": "code",
   "execution_count": null,
   "source": [
    "from sklearn.linear_model import Ridge\r\n",
    "X_train, X_test, y_train, y_test = train_test_split(X_crime, y_crime,\r\n",
    "                                                   random_state = 0)\r\n",
    "\r\n",
    "linridge = Ridge(alpha=20.0).fit(X_train, y_train)\r\n",
    "\r\n",
    "print('Crime dataset')\r\n",
    "print('ridge regression linear model intercept: {}'\r\n",
    "     .format(linridge.intercept_))\r\n",
    "print('ridge regression linear model coeff:\\n{}'\r\n",
    "     .format(linridge.coef_))\r\n",
    "print('R-squared score (training): {:.3f}'\r\n",
    "     .format(linridge.score(X_train, y_train)))\r\n",
    "print('R-squared score (test): {:.3f}'\r\n",
    "     .format(linridge.score(X_test, y_test)))\r\n",
    "print('Number of non-zero features: {}'\r\n",
    "     .format(np.sum(linridge.coef_ != 0)))"
   ],
   "outputs": [],
   "metadata": {
    "collapsed": false
   }
  },
  {
   "cell_type": "markdown",
   "source": [
    "#### Ridge regression with feature normalization"
   ],
   "metadata": {}
  },
  {
   "cell_type": "code",
   "execution_count": null,
   "source": [
    "from sklearn.preprocessing import MinMaxScaler\r\n",
    "scaler = MinMaxScaler()\r\n",
    "\r\n",
    "from sklearn.linear_model import Ridge\r\n",
    "X_train, X_test, y_train, y_test = train_test_split(X_crime, y_crime,\r\n",
    "                                                   random_state = 0)\r\n",
    "\r\n",
    "X_train_scaled = scaler.fit_transform(X_train)\r\n",
    "X_test_scaled = scaler.transform(X_test)\r\n",
    "\r\n",
    "linridge = Ridge(alpha=20.0).fit(X_train_scaled, y_train)\r\n",
    "\r\n",
    "print('Crime dataset')\r\n",
    "print('ridge regression linear model intercept: {}'\r\n",
    "     .format(linridge.intercept_))\r\n",
    "print('ridge regression linear model coeff:\\n{}'\r\n",
    "     .format(linridge.coef_))\r\n",
    "print('R-squared score (training): {:.3f}'\r\n",
    "     .format(linridge.score(X_train_scaled, y_train)))\r\n",
    "print('R-squared score (test): {:.3f}'\r\n",
    "     .format(linridge.score(X_test_scaled, y_test)))\r\n",
    "print('Number of non-zero features: {}'\r\n",
    "     .format(np.sum(linridge.coef_ != 0)))"
   ],
   "outputs": [],
   "metadata": {
    "collapsed": false
   }
  },
  {
   "cell_type": "markdown",
   "source": [
    "#### Ridge regression with regularization parameter: alpha"
   ],
   "metadata": {}
  },
  {
   "cell_type": "code",
   "execution_count": null,
   "source": [
    "print('Ridge regression: effect of alpha regularization parameter\\n')\r\n",
    "for this_alpha in [0, 1, 10, 20, 50, 100, 1000]:\r\n",
    "    linridge = Ridge(alpha = this_alpha).fit(X_train_scaled, y_train)\r\n",
    "    r2_train = linridge.score(X_train_scaled, y_train)\r\n",
    "    r2_test = linridge.score(X_test_scaled, y_test)\r\n",
    "    num_coeff_bigger = np.sum(abs(linridge.coef_) > 1.0)\r\n",
    "    print('Alpha = {:.2f}\\nnum abs(coeff) > 1.0: {}, \\\r\n",
    "r-squared training: {:.2f}, r-squared test: {:.2f}\\n'\r\n",
    "         .format(this_alpha, num_coeff_bigger, r2_train, r2_test))"
   ],
   "outputs": [],
   "metadata": {
    "collapsed": false
   }
  },
  {
   "cell_type": "markdown",
   "source": [
    "### Lasso regression"
   ],
   "metadata": {}
  },
  {
   "cell_type": "code",
   "execution_count": null,
   "source": [
    "from sklearn.linear_model import Lasso\r\n",
    "from sklearn.preprocessing import MinMaxScaler\r\n",
    "scaler = MinMaxScaler()\r\n",
    "\r\n",
    "X_train, X_test, y_train, y_test = train_test_split(X_crime, y_crime,\r\n",
    "                                                   random_state = 0)\r\n",
    "\r\n",
    "X_train_scaled = scaler.fit_transform(X_train)\r\n",
    "X_test_scaled = scaler.transform(X_test)\r\n",
    "\r\n",
    "linlasso = Lasso(alpha=2.0, max_iter = 10000).fit(X_train_scaled, y_train)\r\n",
    "\r\n",
    "print('Crime dataset')\r\n",
    "print('lasso regression linear model intercept: {}'\r\n",
    "     .format(linlasso.intercept_))\r\n",
    "print('lasso regression linear model coeff:\\n{}'\r\n",
    "     .format(linlasso.coef_))\r\n",
    "print('Non-zero features: {}'\r\n",
    "     .format(np.sum(linlasso.coef_ != 0)))\r\n",
    "print('R-squared score (training): {:.3f}'\r\n",
    "     .format(linlasso.score(X_train_scaled, y_train)))\r\n",
    "print('R-squared score (test): {:.3f}\\n'\r\n",
    "     .format(linlasso.score(X_test_scaled, y_test)))\r\n",
    "print('Features with non-zero weight (sorted by absolute magnitude):')\r\n",
    "\r\n",
    "for e in sorted (list(zip(list(X_crime), linlasso.coef_)),\r\n",
    "                key = lambda e: -abs(e[1])):\r\n",
    "    if e[1] != 0:\r\n",
    "        print('\\t{}, {:.3f}'.format(e[0], e[1]))"
   ],
   "outputs": [],
   "metadata": {
    "collapsed": false
   }
  },
  {
   "cell_type": "markdown",
   "source": [
    "#### Lasso regression with regularization parameter: alpha"
   ],
   "metadata": {}
  },
  {
   "cell_type": "code",
   "execution_count": null,
   "source": [
    "print('Lasso regression: effect of alpha regularization\\n\\\r\n",
    "parameter on number of features kept in final model\\n')\r\n",
    "\r\n",
    "for alpha in [0.5, 1, 2, 3, 5, 10, 20, 50]:\r\n",
    "    linlasso = Lasso(alpha, max_iter = 10000).fit(X_train_scaled, y_train)\r\n",
    "    r2_train = linlasso.score(X_train_scaled, y_train)\r\n",
    "    r2_test = linlasso.score(X_test_scaled, y_test)\r\n",
    "    \r\n",
    "    print('Alpha = {:.2f}\\nFeatures kept: {}, r-squared training: {:.2f}, \\\r\n",
    "r-squared test: {:.2f}\\n'\r\n",
    "         .format(alpha, np.sum(linlasso.coef_ != 0), r2_train, r2_test))"
   ],
   "outputs": [],
   "metadata": {
    "collapsed": false
   }
  },
  {
   "cell_type": "markdown",
   "source": [
    "### Polynomial regression"
   ],
   "metadata": {}
  },
  {
   "cell_type": "code",
   "execution_count": null,
   "source": [
    "from sklearn.linear_model import LinearRegression\r\n",
    "from sklearn.linear_model import Ridge\r\n",
    "from sklearn.preprocessing import PolynomialFeatures\r\n",
    "\r\n",
    "\r\n",
    "X_train, X_test, y_train, y_test = train_test_split(X_F1, y_F1,\r\n",
    "                                                   random_state = 0)\r\n",
    "linreg = LinearRegression().fit(X_train, y_train)\r\n",
    "\r\n",
    "print('linear model coeff (w): {}'\r\n",
    "     .format(linreg.coef_))\r\n",
    "print('linear model intercept (b): {:.3f}'\r\n",
    "     .format(linreg.intercept_))\r\n",
    "print('R-squared score (training): {:.3f}'\r\n",
    "     .format(linreg.score(X_train, y_train)))\r\n",
    "print('R-squared score (test): {:.3f}'\r\n",
    "     .format(linreg.score(X_test, y_test)))\r\n",
    "\r\n",
    "print('\\nNow we transform the original input data to add\\n\\\r\n",
    "polynomial features up to degree 2 (quadratic)\\n')\r\n",
    "poly = PolynomialFeatures(degree=2)\r\n",
    "X_F1_poly = poly.fit_transform(X_F1)\r\n",
    "\r\n",
    "X_train, X_test, y_train, y_test = train_test_split(X_F1_poly, y_F1,\r\n",
    "                                                   random_state = 0)\r\n",
    "linreg = LinearRegression().fit(X_train, y_train)\r\n",
    "\r\n",
    "print('(poly deg 2) linear model coeff (w):\\n{}'\r\n",
    "     .format(linreg.coef_))\r\n",
    "print('(poly deg 2) linear model intercept (b): {:.3f}'\r\n",
    "     .format(linreg.intercept_))\r\n",
    "print('(poly deg 2) R-squared score (training): {:.3f}'\r\n",
    "     .format(linreg.score(X_train, y_train)))\r\n",
    "print('(poly deg 2) R-squared score (test): {:.3f}\\n'\r\n",
    "     .format(linreg.score(X_test, y_test)))\r\n",
    "\r\n",
    "print('\\nAddition of many polynomial features often leads to\\n\\\r\n",
    "overfitting, so we often use polynomial features in combination\\n\\\r\n",
    "with regression that has a regularization penalty, like ridge\\n\\\r\n",
    "regression.\\n')\r\n",
    "\r\n",
    "X_train, X_test, y_train, y_test = train_test_split(X_F1_poly, y_F1,\r\n",
    "                                                   random_state = 0)\r\n",
    "linreg = Ridge().fit(X_train, y_train)\r\n",
    "\r\n",
    "print('(poly deg 2 + ridge) linear model coeff (w):\\n{}'\r\n",
    "     .format(linreg.coef_))\r\n",
    "print('(poly deg 2 + ridge) linear model intercept (b): {:.3f}'\r\n",
    "     .format(linreg.intercept_))\r\n",
    "print('(poly deg 2 + ridge) R-squared score (training): {:.3f}'\r\n",
    "     .format(linreg.score(X_train, y_train)))\r\n",
    "print('(poly deg 2 + ridge) R-squared score (test): {:.3f}'\r\n",
    "     .format(linreg.score(X_test, y_test)))"
   ],
   "outputs": [],
   "metadata": {
    "collapsed": false
   }
  },
  {
   "cell_type": "markdown",
   "source": [
    "## Linear models for classification"
   ],
   "metadata": {}
  },
  {
   "cell_type": "markdown",
   "source": [
    "### Logistic regression"
   ],
   "metadata": {}
  },
  {
   "cell_type": "markdown",
   "source": [
    "#### Logistic regression for binary classification on fruits dataset using height, width features (positive class: apple, negative class: others)"
   ],
   "metadata": {}
  },
  {
   "cell_type": "code",
   "execution_count": null,
   "source": [
    "from sklearn.linear_model import LogisticRegression\r\n",
    "from adspy_shared_utilities import (\r\n",
    "plot_class_regions_for_classifier_subplot)\r\n",
    "\r\n",
    "fig, subaxes = plt.subplots(1, 1, figsize=(7, 5))\r\n",
    "y_fruits_apple = y_fruits_2d == 1   # make into a binary problem: apples vs everything else\r\n",
    "X_train, X_test, y_train, y_test = (\r\n",
    "train_test_split(X_fruits_2d.to_numpy(),\r\n",
    "                y_fruits_apple.to_numpy(),\r\n",
    "                random_state = 0))\r\n",
    "\r\n",
    "clf = LogisticRegression(C=100).fit(X_train, y_train)\r\n",
    "plot_class_regions_for_classifier_subplot(clf, X_train, y_train, None,\r\n",
    "                                         None, 'Logistic regression \\\r\n",
    "for binary classification\\nFruit dataset: Apple vs others',\r\n",
    "                                         subaxes)\r\n",
    "\r\n",
    "h = 6\r\n",
    "w = 8\r\n",
    "print('A fruit with height {} and width {} is predicted to be: {}'\r\n",
    "     .format(h,w, ['not an apple', 'an apple'][clf.predict([[h,w]])[0]]))\r\n",
    "\r\n",
    "h = 10\r\n",
    "w = 7\r\n",
    "print('A fruit with height {} and width {} is predicted to be: {}'\r\n",
    "     .format(h,w, ['not an apple', 'an apple'][clf.predict([[h,w]])[0]]))\r\n",
    "subaxes.set_xlabel('height')\r\n",
    "subaxes.set_ylabel('width')\r\n",
    "\r\n",
    "print('Accuracy of Logistic regression classifier on training set: {:.2f}'\r\n",
    "     .format(clf.score(X_train, y_train)))\r\n",
    "print('Accuracy of Logistic regression classifier on test set: {:.2f}'\r\n",
    "     .format(clf.score(X_test, y_test)))"
   ],
   "outputs": [],
   "metadata": {
    "collapsed": false
   }
  },
  {
   "cell_type": "markdown",
   "source": [
    "#### Logistic regression on simple synthetic dataset"
   ],
   "metadata": {}
  },
  {
   "cell_type": "code",
   "execution_count": null,
   "source": [
    "from sklearn.linear_model import LogisticRegression\r\n",
    "from adspy_shared_utilities import (\r\n",
    "plot_class_regions_for_classifier_subplot)\r\n",
    "\r\n",
    "\r\n",
    "X_train, X_test, y_train, y_test = train_test_split(X_C2, y_C2,\r\n",
    "                                                   random_state = 0)\r\n",
    "\r\n",
    "fig, subaxes = plt.subplots(1, 1, figsize=(7, 5))\r\n",
    "clf = LogisticRegression().fit(X_train, y_train)\r\n",
    "title = 'Logistic regression, simple synthetic dataset C = {:.3f}'.format(1.0)\r\n",
    "plot_class_regions_for_classifier_subplot(clf, X_train, y_train,\r\n",
    "                                         None, None, title, subaxes)\r\n",
    "\r\n",
    "print('Accuracy of Logistic regression classifier on training set: {:.2f}'\r\n",
    "     .format(clf.score(X_train, y_train)))\r\n",
    "print('Accuracy of Logistic regression classifier on test set: {:.2f}'\r\n",
    "     .format(clf.score(X_test, y_test)))\r\n",
    "     "
   ],
   "outputs": [],
   "metadata": {
    "collapsed": false,
    "scrolled": false
   }
  },
  {
   "cell_type": "markdown",
   "source": [
    "#### Logistic regression regularization: C parameter"
   ],
   "metadata": {}
  },
  {
   "cell_type": "code",
   "execution_count": null,
   "source": [
    "X_train, X_test, y_train, y_test = (\r\n",
    "train_test_split(X_fruits_2d.to_numpy(),\r\n",
    "                y_fruits_apple.to_numpy(),\r\n",
    "                random_state=0))\r\n",
    "\r\n",
    "fig, subaxes = plt.subplots(3, 1, figsize=(4, 10))\r\n",
    "\r\n",
    "for this_C, subplot in zip([0.1, 1, 100], subaxes):\r\n",
    "    clf = LogisticRegression(C=this_C).fit(X_train, y_train)\r\n",
    "    title ='Logistic regression (apple vs rest), C = {:.3f}'.format(this_C)\r\n",
    "    \r\n",
    "    plot_class_regions_for_classifier_subplot(clf, X_train, y_train,\r\n",
    "                                             X_test, y_test, title,\r\n",
    "                                             subplot)\r\n",
    "plt.tight_layout()"
   ],
   "outputs": [],
   "metadata": {
    "collapsed": false,
    "scrolled": false
   }
  },
  {
   "cell_type": "markdown",
   "source": [
    "#### Application to real dataset"
   ],
   "metadata": {}
  },
  {
   "cell_type": "code",
   "execution_count": null,
   "source": [
    "from sklearn.linear_model import LogisticRegression\r\n",
    "\r\n",
    "X_train, X_test, y_train, y_test = train_test_split(X_cancer, y_cancer, random_state = 0)\r\n",
    "\r\n",
    "clf = LogisticRegression().fit(X_train, y_train)\r\n",
    "print('Breast cancer dataset')\r\n",
    "print('Accuracy of Logistic regression classifier on training set: {:.2f}'\r\n",
    "     .format(clf.score(X_train, y_train)))\r\n",
    "print('Accuracy of Logistic regression classifier on test set: {:.2f}'\r\n",
    "     .format(clf.score(X_test, y_test)))"
   ],
   "outputs": [],
   "metadata": {
    "collapsed": false
   }
  },
  {
   "cell_type": "markdown",
   "source": [
    "### Support Vector Machines"
   ],
   "metadata": {}
  },
  {
   "cell_type": "markdown",
   "source": [
    "#### Linear Support Vector Machine"
   ],
   "metadata": {}
  },
  {
   "cell_type": "code",
   "execution_count": null,
   "source": [
    "from sklearn.svm import SVC\r\n",
    "from adspy_shared_utilities import plot_class_regions_for_classifier_subplot\r\n",
    "\r\n",
    "\r\n",
    "X_train, X_test, y_train, y_test = train_test_split(X_C2, y_C2, random_state = 0)\r\n",
    "\r\n",
    "fig, subaxes = plt.subplots(1, 1, figsize=(7, 5))\r\n",
    "this_C = 1.0\r\n",
    "clf = SVC(kernel = 'linear', C=this_C).fit(X_train, y_train)\r\n",
    "title = 'Linear SVC, C = {:.3f}'.format(this_C)\r\n",
    "plot_class_regions_for_classifier_subplot(clf, X_train, y_train, None, None, title, subaxes)"
   ],
   "outputs": [],
   "metadata": {
    "collapsed": false
   }
  },
  {
   "cell_type": "markdown",
   "source": [
    "#### Linear Support Vector Machine: C parameter"
   ],
   "metadata": {}
  },
  {
   "cell_type": "code",
   "execution_count": null,
   "source": [
    "from sklearn.svm import LinearSVC\r\n",
    "from adspy_shared_utilities import plot_class_regions_for_classifier\r\n",
    "\r\n",
    "X_train, X_test, y_train, y_test = train_test_split(X_C2, y_C2, random_state = 0)\r\n",
    "fig, subaxes = plt.subplots(1, 2, figsize=(8, 4))\r\n",
    "\r\n",
    "for this_C, subplot in zip([0.00001, 100], subaxes):\r\n",
    "    clf = LinearSVC(C=this_C).fit(X_train, y_train)\r\n",
    "    title = 'Linear SVC, C = {:.5f}'.format(this_C)\r\n",
    "    plot_class_regions_for_classifier_subplot(clf, X_train, y_train,\r\n",
    "                                             None, None, title, subplot)\r\n",
    "plt.tight_layout()"
   ],
   "outputs": [],
   "metadata": {
    "collapsed": false
   }
  },
  {
   "cell_type": "markdown",
   "source": [
    "#### Application to real dataset"
   ],
   "metadata": {}
  },
  {
   "cell_type": "code",
   "execution_count": null,
   "source": [
    "from sklearn.svm import LinearSVC\r\n",
    "X_train, X_test, y_train, y_test = train_test_split(X_cancer, y_cancer, random_state = 0)\r\n",
    "\r\n",
    "clf = LinearSVC().fit(X_train, y_train)\r\n",
    "print('Breast cancer dataset')\r\n",
    "print('Accuracy of Linear SVC classifier on training set: {:.2f}'\r\n",
    "     .format(clf.score(X_train, y_train)))\r\n",
    "print('Accuracy of Linear SVC classifier on test set: {:.2f}'\r\n",
    "     .format(clf.score(X_test, y_test)))"
   ],
   "outputs": [],
   "metadata": {
    "collapsed": false
   }
  },
  {
   "cell_type": "markdown",
   "source": [
    "### Multi-class classification with linear models"
   ],
   "metadata": {}
  },
  {
   "cell_type": "markdown",
   "source": [
    "#### LinearSVC with M classes generates M one vs rest classifiers."
   ],
   "metadata": {}
  },
  {
   "cell_type": "code",
   "execution_count": null,
   "source": [
    "from sklearn.svm import LinearSVC\r\n",
    "\r\n",
    "X_train, X_test, y_train, y_test = train_test_split(X_fruits_2d, y_fruits_2d, random_state = 0)\r\n",
    "\r\n",
    "clf = LinearSVC(C=5, random_state = 67).fit(X_train, y_train)\r\n",
    "print('Coefficients:\\n', clf.coef_)\r\n",
    "print('Intercepts:\\n', clf.intercept_)"
   ],
   "outputs": [],
   "metadata": {
    "collapsed": false
   }
  },
  {
   "cell_type": "markdown",
   "source": [
    "#### Multi-class results on the fruit dataset"
   ],
   "metadata": {}
  },
  {
   "cell_type": "code",
   "execution_count": null,
   "source": [
    "plt.figure(figsize=(6,6))\r\n",
    "colors = ['r', 'g', 'b', 'y']\r\n",
    "cmap_fruits = ListedColormap(['#FF0000', '#00FF00', '#0000FF','#FFFF00'])\r\n",
    "\r\n",
    "plt.scatter(X_fruits_2d[['height']], X_fruits_2d[['width']],\r\n",
    "           c=y_fruits_2d, cmap=cmap_fruits, edgecolor = 'black', alpha=.7)\r\n",
    "\r\n",
    "x_0_range = np.linspace(-10, 15)\r\n",
    "\r\n",
    "for w, b, color in zip(clf.coef_, clf.intercept_, ['r', 'g', 'b', 'y']):\r\n",
    "    # Since class prediction with a linear model uses the formula y = w_0 x_0 + w_1 x_1 + b, \r\n",
    "    # and the decision boundary is defined as being all points with y = 0, to plot x_1 as a \r\n",
    "    # function of x_0 we just solve w_0 x_0 + w_1 x_1 + b = 0 for x_1:\r\n",
    "    plt.plot(x_0_range, -(x_0_range * w[0] + b) / w[1], c=color, alpha=.8)\r\n",
    "    \r\n",
    "plt.legend(target_names_fruits)\r\n",
    "plt.xlabel('height')\r\n",
    "plt.ylabel('width')\r\n",
    "plt.xlim(-2, 12)\r\n",
    "plt.ylim(-2, 15)\r\n",
    "plt.show()"
   ],
   "outputs": [],
   "metadata": {
    "collapsed": false
   }
  },
  {
   "cell_type": "markdown",
   "source": [
    "## Kernelized Support Vector Machines"
   ],
   "metadata": {}
  },
  {
   "cell_type": "markdown",
   "source": [
    "### Classification"
   ],
   "metadata": {}
  },
  {
   "cell_type": "code",
   "execution_count": null,
   "source": [
    "from sklearn.svm import SVC\r\n",
    "from adspy_shared_utilities import plot_class_regions_for_classifier\r\n",
    "\r\n",
    "X_train, X_test, y_train, y_test = train_test_split(X_D2, y_D2, random_state = 0)\r\n",
    "\r\n",
    "# The default SVC kernel is radial basis function (RBF)\r\n",
    "plot_class_regions_for_classifier(SVC().fit(X_train, y_train),\r\n",
    "                                 X_train, y_train, None, None,\r\n",
    "                                 'Support Vector Classifier: RBF kernel')\r\n",
    "\r\n",
    "# Compare decision boundries with polynomial kernel, degree = 3\r\n",
    "plot_class_regions_for_classifier(SVC(kernel = 'poly', degree = 3)\r\n",
    "                                 .fit(X_train, y_train), X_train,\r\n",
    "                                 y_train, None, None,\r\n",
    "                                 'Support Vector Classifier: Polynomial kernel, degree = 3')"
   ],
   "outputs": [],
   "metadata": {
    "collapsed": false,
    "scrolled": false
   }
  },
  {
   "cell_type": "markdown",
   "source": [
    "#### Support Vector Machine with RBF kernel: gamma parameter"
   ],
   "metadata": {}
  },
  {
   "cell_type": "code",
   "execution_count": null,
   "source": [
    "from adspy_shared_utilities import plot_class_regions_for_classifier\r\n",
    "\r\n",
    "X_train, X_test, y_train, y_test = train_test_split(X_D2, y_D2, random_state = 0)\r\n",
    "fig, subaxes = plt.subplots(3, 1, figsize=(4, 11))\r\n",
    "\r\n",
    "for this_gamma, subplot in zip([0.01, 1.0, 10.0], subaxes):\r\n",
    "    clf = SVC(kernel = 'rbf', gamma=this_gamma).fit(X_train, y_train)\r\n",
    "    title = 'Support Vector Classifier: \\nRBF kernel, gamma = {:.2f}'.format(this_gamma)\r\n",
    "    plot_class_regions_for_classifier_subplot(clf, X_train, y_train,\r\n",
    "                                             None, None, title, subplot)\r\n",
    "    plt.tight_layout()"
   ],
   "outputs": [],
   "metadata": {
    "collapsed": false
   }
  },
  {
   "cell_type": "markdown",
   "source": [
    "#### Support Vector Machine with RBF kernel: using both C and gamma parameter "
   ],
   "metadata": {}
  },
  {
   "cell_type": "code",
   "execution_count": null,
   "source": [
    "from sklearn.svm import SVC\r\n",
    "from adspy_shared_utilities import plot_class_regions_for_classifier_subplot\r\n",
    "\r\n",
    "from sklearn.model_selection import train_test_split\r\n",
    "\r\n",
    "\r\n",
    "X_train, X_test, y_train, y_test = train_test_split(X_D2, y_D2, random_state = 0)\r\n",
    "fig, subaxes = plt.subplots(3, 4, figsize=(15, 10), dpi=50)\r\n",
    "\r\n",
    "for this_gamma, this_axis in zip([0.01, 1, 5], subaxes):\r\n",
    "    \r\n",
    "    for this_C, subplot in zip([0.1, 1, 15, 250], this_axis):\r\n",
    "        title = 'gamma = {:.2f}, C = {:.2f}'.format(this_gamma, this_C)\r\n",
    "        clf = SVC(kernel = 'rbf', gamma = this_gamma,\r\n",
    "                 C = this_C).fit(X_train, y_train)\r\n",
    "        plot_class_regions_for_classifier_subplot(clf, X_train, y_train,\r\n",
    "                                                 X_test, y_test, title,\r\n",
    "                                                 subplot)\r\n",
    "        plt.tight_layout(pad=0.4, w_pad=0.5, h_pad=1.0)"
   ],
   "outputs": [],
   "metadata": {
    "collapsed": false
   }
  },
  {
   "cell_type": "markdown",
   "source": [
    "### Application of SVMs to a real dataset: unnormalized data"
   ],
   "metadata": {}
  },
  {
   "cell_type": "code",
   "execution_count": null,
   "source": [
    "from sklearn.svm import SVC\r\n",
    "X_train, X_test, y_train, y_test = train_test_split(X_cancer, y_cancer,\r\n",
    "                                                   random_state = 0)\r\n",
    "\r\n",
    "clf = SVC(C=10).fit(X_train, y_train)\r\n",
    "print('Breast cancer dataset (unnormalized features)')\r\n",
    "print('Accuracy of RBF-kernel SVC on training set: {:.2f}'\r\n",
    "     .format(clf.score(X_train, y_train)))\r\n",
    "print('Accuracy of RBF-kernel SVC on test set: {:.2f}'\r\n",
    "     .format(clf.score(X_test, y_test)))"
   ],
   "outputs": [],
   "metadata": {
    "collapsed": false
   }
  },
  {
   "cell_type": "markdown",
   "source": [
    "### Application of SVMs to a real dataset: normalized data with feature preprocessing using minmax scaling"
   ],
   "metadata": {}
  },
  {
   "cell_type": "code",
   "execution_count": null,
   "source": [
    "from sklearn.preprocessing import MinMaxScaler\r\n",
    "scaler = MinMaxScaler()\r\n",
    "X_train_scaled = scaler.fit_transform(X_train)\r\n",
    "X_test_scaled = scaler.transform(X_test)\r\n",
    "\r\n",
    "clf = SVC(C=10).fit(X_train_scaled, y_train)\r\n",
    "print('Breast cancer dataset (normalized with MinMax scaling)')\r\n",
    "print('RBF-kernel SVC (with MinMax scaling) training set accuracy: {:.2f}'\r\n",
    "     .format(clf.score(X_train_scaled, y_train)))\r\n",
    "print('RBF-kernel SVC (with MinMax scaling) test set accuracy: {:.2f}'\r\n",
    "     .format(clf.score(X_test_scaled, y_test)))"
   ],
   "outputs": [],
   "metadata": {
    "collapsed": false
   }
  },
  {
   "cell_type": "markdown",
   "source": [
    "## Cross-validation"
   ],
   "metadata": {
    "collapsed": true
   }
  },
  {
   "cell_type": "markdown",
   "source": [
    "### Example based on k-NN classifier with fruit dataset (2 features)"
   ],
   "metadata": {}
  },
  {
   "cell_type": "code",
   "execution_count": null,
   "source": [
    "from sklearn.model_selection import cross_val_score\r\n",
    "\r\n",
    "clf = KNeighborsClassifier(n_neighbors = 5)\r\n",
    "X = X_fruits_2d.to_numpy()\r\n",
    "y = y_fruits_2d.to_numpy()\r\n",
    "cv_scores = cross_val_score(clf, X, y)\r\n",
    "\r\n",
    "print('Cross-validation scores (3-fold):', cv_scores)\r\n",
    "print('Mean cross-validation score (3-fold): {:.3f}'\r\n",
    "     .format(np.mean(cv_scores)))"
   ],
   "outputs": [],
   "metadata": {
    "collapsed": false
   }
  },
  {
   "cell_type": "markdown",
   "source": [
    "### A note on performing cross-validation for more advanced scenarios.\n",
    "\n",
    "In some cases (e.g. when feature values have very different ranges), we've seen the need to scale or normalize the training and test sets before use with a classifier. The proper way to do cross-validation when you need to scale the data is *not* to scale the entire dataset with a single transform, since this will indirectly leak information into the training data about the whole dataset, including the test data (see the lecture on data leakage later in the course).  Instead, scaling/normalizing must be computed and applied for each cross-validation fold separately.  To do this, the easiest way in scikit-learn is to use *pipelines*.  While these are beyond the scope of this course, further information is available in the scikit-learn documentation here:\n",
    "\n",
    "http://scikit-learn.org/stable/modules/generated/sklearn.pipeline.Pipeline.html\n",
    "\n",
    "or the Pipeline section in the recommended textbook: Introduction to Machine Learning with Python by Andreas C. Müller and Sarah Guido (O'Reilly Media)."
   ],
   "metadata": {}
  },
  {
   "cell_type": "markdown",
   "source": [
    "## Validation curve example"
   ],
   "metadata": {}
  },
  {
   "cell_type": "code",
   "execution_count": null,
   "source": [
    "from sklearn.svm import SVC\r\n",
    "from sklearn.model_selection import validation_curve\r\n",
    "\r\n",
    "param_range = np.logspace(-3, 3, 4)\r\n",
    "train_scores, test_scores = validation_curve(SVC(), X, y,\r\n",
    "                                            param_name='gamma',\r\n",
    "                                            param_range=param_range, cv=3)"
   ],
   "outputs": [],
   "metadata": {
    "collapsed": true
   }
  },
  {
   "cell_type": "code",
   "execution_count": null,
   "source": [
    "print(train_scores)"
   ],
   "outputs": [],
   "metadata": {
    "collapsed": false
   }
  },
  {
   "cell_type": "code",
   "execution_count": null,
   "source": [
    "print(test_scores)"
   ],
   "outputs": [],
   "metadata": {
    "collapsed": false
   }
  },
  {
   "cell_type": "code",
   "execution_count": null,
   "source": [
    "# This code based on scikit-learn validation_plot example\r\n",
    "#  See:  http://scikit-learn.org/stable/auto_examples/model_selection/plot_validation_curve.html\r\n",
    "plt.figure()\r\n",
    "\r\n",
    "train_scores_mean = np.mean(train_scores, axis=1)\r\n",
    "train_scores_std = np.std(train_scores, axis=1)\r\n",
    "test_scores_mean = np.mean(test_scores, axis=1)\r\n",
    "test_scores_std = np.std(test_scores, axis=1)\r\n",
    "\r\n",
    "plt.title('Validation Curve with SVM')\r\n",
    "plt.xlabel('$\\gamma$ (gamma)')\r\n",
    "plt.ylabel('Score')\r\n",
    "plt.ylim(0.0, 1.1)\r\n",
    "lw = 2\r\n",
    "\r\n",
    "plt.semilogx(param_range, train_scores_mean, label='Training score',\r\n",
    "            color='darkorange', lw=lw)\r\n",
    "\r\n",
    "plt.fill_between(param_range, train_scores_mean - train_scores_std,\r\n",
    "                train_scores_mean + train_scores_std, alpha=0.2,\r\n",
    "                color='darkorange', lw=lw)\r\n",
    "\r\n",
    "plt.semilogx(param_range, test_scores_mean, label='Cross-validation score',\r\n",
    "            color='navy', lw=lw)\r\n",
    "\r\n",
    "plt.fill_between(param_range, test_scores_mean - test_scores_std,\r\n",
    "                test_scores_mean + test_scores_std, alpha=0.2,\r\n",
    "                color='navy', lw=lw)\r\n",
    "\r\n",
    "plt.legend(loc='best')\r\n",
    "plt.show()"
   ],
   "outputs": [],
   "metadata": {
    "collapsed": false
   }
  },
  {
   "cell_type": "markdown",
   "source": [
    "## Decision Trees"
   ],
   "metadata": {
    "collapsed": true
   }
  },
  {
   "cell_type": "code",
   "execution_count": null,
   "source": [
    "from sklearn.datasets import load_iris\r\n",
    "from sklearn.tree import DecisionTreeClassifier\r\n",
    "from adspy_shared_utilities import plot_decision_tree\r\n",
    "from sklearn.model_selection import train_test_split\r\n",
    "\r\n",
    "\r\n",
    "iris = load_iris()\r\n",
    "\r\n",
    "X_train, X_test, y_train, y_test = train_test_split(iris.data, iris.target, random_state = 3)\r\n",
    "clf = DecisionTreeClassifier().fit(X_train, y_train)\r\n",
    "\r\n",
    "print('Accuracy of Decision Tree classifier on training set: {:.2f}'\r\n",
    "     .format(clf.score(X_train, y_train)))\r\n",
    "print('Accuracy of Decision Tree classifier on test set: {:.2f}'\r\n",
    "     .format(clf.score(X_test, y_test)))"
   ],
   "outputs": [],
   "metadata": {
    "collapsed": false
   }
  },
  {
   "cell_type": "markdown",
   "source": [
    "#### Setting max decision tree depth to help avoid overfitting"
   ],
   "metadata": {}
  },
  {
   "cell_type": "code",
   "execution_count": null,
   "source": [
    "clf2 = DecisionTreeClassifier(max_depth = 3).fit(X_train, y_train)\r\n",
    "\r\n",
    "print('Accuracy of Decision Tree classifier on training set: {:.2f}'\r\n",
    "     .format(clf2.score(X_train, y_train)))\r\n",
    "print('Accuracy of Decision Tree classifier on test set: {:.2f}'\r\n",
    "     .format(clf2.score(X_test, y_test)))"
   ],
   "outputs": [],
   "metadata": {
    "collapsed": false
   }
  },
  {
   "cell_type": "markdown",
   "source": [
    "#### Visualizing decision trees"
   ],
   "metadata": {}
  },
  {
   "cell_type": "code",
   "execution_count": null,
   "source": [
    "plot_decision_tree(clf, iris.feature_names, iris.target_names)"
   ],
   "outputs": [],
   "metadata": {
    "collapsed": false
   }
  },
  {
   "cell_type": "markdown",
   "source": [
    "#### Pre-pruned version (max_depth = 3)"
   ],
   "metadata": {}
  },
  {
   "cell_type": "code",
   "execution_count": null,
   "source": [
    "plot_decision_tree(clf2, iris.feature_names, iris.target_names)"
   ],
   "outputs": [],
   "metadata": {
    "collapsed": false
   }
  },
  {
   "cell_type": "markdown",
   "source": [
    "#### Feature importance"
   ],
   "metadata": {}
  },
  {
   "cell_type": "code",
   "execution_count": null,
   "source": [
    "from adspy_shared_utilities import plot_feature_importances\r\n",
    "\r\n",
    "plt.figure(figsize=(10,4), dpi=80)\r\n",
    "plot_feature_importances(clf, iris.feature_names)\r\n",
    "plt.show()\r\n",
    "\r\n",
    "print('Feature importances: {}'.format(clf.feature_importances_))"
   ],
   "outputs": [],
   "metadata": {
    "collapsed": false
   }
  },
  {
   "cell_type": "code",
   "execution_count": null,
   "source": [
    "from sklearn.tree import DecisionTreeClassifier\r\n",
    "from adspy_shared_utilities import plot_class_regions_for_classifier_subplot\r\n",
    "\r\n",
    "X_train, X_test, y_train, y_test = train_test_split(iris.data, iris.target, random_state = 0)\r\n",
    "fig, subaxes = plt.subplots(6, 1, figsize=(6, 32))\r\n",
    "\r\n",
    "pair_list = [[0,1], [0,2], [0,3], [1,2], [1,3], [2,3]]\r\n",
    "tree_max_depth = 4\r\n",
    "\r\n",
    "for pair, axis in zip(pair_list, subaxes):\r\n",
    "    X = X_train[:, pair]\r\n",
    "    y = y_train\r\n",
    "    \r\n",
    "    clf = DecisionTreeClassifier(max_depth=tree_max_depth).fit(X, y)\r\n",
    "    title = 'Decision Tree, max_depth = {:d}'.format(tree_max_depth)\r\n",
    "    plot_class_regions_for_classifier_subplot(clf, X, y, None,\r\n",
    "                                             None, title, axis,\r\n",
    "                                             iris.target_names)\r\n",
    "    \r\n",
    "    axis.set_xlabel(iris.feature_names[pair[0]])\r\n",
    "    axis.set_ylabel(iris.feature_names[pair[1]])\r\n",
    "    \r\n",
    "plt.tight_layout()\r\n",
    "plt.show()"
   ],
   "outputs": [],
   "metadata": {
    "collapsed": false
   }
  },
  {
   "cell_type": "markdown",
   "source": [
    "#### Decision Trees on a real-world dataset"
   ],
   "metadata": {}
  },
  {
   "cell_type": "code",
   "execution_count": null,
   "source": [
    "from sklearn.tree import DecisionTreeClassifier\n",
    "from adspy_shared_utilities import plot_decision_tree\n",
    "from adspy_shared_utilities import plot_feature_importances\n",
    "\n",
    "X_train, X_test, y_train, y_test = train_test_split(X_cancer, y_cancer, random_state = 0)\n",
    "\n",
    "clf = DecisionTreeClassifier(max_depth = 4, min_samples_leaf = 8,\n",
    "                            random_state = 0).fit(X_train, y_train)\n",
    "\n",
    "plot_decision_tree(clf, cancer.feature_names, cancer.target_names)"
   ],
   "outputs": [],
   "metadata": {
    "collapsed": false
   }
  },
  {
   "cell_type": "code",
   "execution_count": null,
   "source": [
    "print('Breast cancer dataset: decision tree')\n",
    "print('Accuracy of DT classifier on training set: {:.2f}'\n",
    "     .format(clf.score(X_train, y_train)))\n",
    "print('Accuracy of DT classifier on test set: {:.2f}'\n",
    "     .format(clf.score(X_test, y_test)))\n",
    "\n",
    "plt.figure(figsize=(10,6),dpi=80)\n",
    "plot_feature_importances(clf, cancer.feature_names)\n",
    "plt.tight_layout()\n",
    "\n",
    "plt.show()"
   ],
   "outputs": [],
   "metadata": {
    "collapsed": false
   }
  }
 ],
 "metadata": {
  "anaconda-cloud": {},
  "kernelspec": {
   "name": "python3",
   "display_name": "Python 3.7.10 64-bit ('python3.7': conda)"
  },
  "language_info": {
   "codemirror_mode": {
    "name": "ipython",
    "version": 3
   },
   "file_extension": ".py",
   "mimetype": "text/x-python",
   "name": "python",
   "nbconvert_exporter": "python",
   "pygments_lexer": "ipython3",
   "version": "3.7.10"
  },
  "interpreter": {
   "hash": "35cea33c54675dba8a30cc331c96e2936fa9a8a6173fb4772d1750944adf2e97"
  }
 },
 "nbformat": 4,
 "nbformat_minor": 2
}