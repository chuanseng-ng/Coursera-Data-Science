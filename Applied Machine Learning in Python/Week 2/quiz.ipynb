{
 "cells": [
  {
   "cell_type": "code",
   "execution_count": null,
   "source": [
    "#Question 1\r\n",
    "# After training a ridge regression model, you find that the training and test set accuracies are 0.98 and 0.54 respectively. \r\n",
    "# Which of the following would be the best choice for the next ridge regression model you train?\r\n",
    "# -> You are overfitting, the next model trained should have a higher value for alpha"
   ],
   "outputs": [],
   "metadata": {}
  },
  {
   "cell_type": "code",
   "execution_count": null,
   "source": [
    "#Question 2\r\n",
    "# After training a Radial Basis Function (RBF) kernel SVM, you decide to increase the influence of each training point and to simplify the decision surface. \r\n",
    "# Which of the following would be the best choice for the next RBF SVM you train?\r\n",
    "# -> Decrease C and gamma"
   ],
   "outputs": [],
   "metadata": {}
  },
  {
   "cell_type": "code",
   "execution_count": null,
   "source": [
    "#Question 3\r\n",
    "# Which of the following is an example of multiclass classification? (Select all that apply)\r\n",
    "# -> Classify a set of fruits as apples, oranges, bananas or lemons"
   ],
   "outputs": [],
   "metadata": {}
  },
  {
   "cell_type": "code",
   "execution_count": null,
   "source": [
    "#Question 4\r\n",
    "# Looking at the plot below which shows accuracy scores for different values of a regularization parameter lambda, what value of lambda is the best choice for generalization?\r\n",
    "# -> 10"
   ],
   "outputs": [],
   "metadata": {}
  },
  {
   "cell_type": "code",
   "execution_count": null,
   "source": [
    "#Question 5\r\n",
    "# Suppose you are interested in finding a parsimonious model (the model that accomplishes the desired level of prediction with as few predictor variables as possible) \r\n",
    "# to predict housing prices. Which of the following would be the best choice?\r\n",
    "# -> Lasso Regression"
   ],
   "outputs": [],
   "metadata": {}
  },
  {
   "cell_type": "code",
   "execution_count": null,
   "source": [
    "#Question 6\r\n",
    "# Match the plots of SVM margins below to the values of the C parameter that correspond to them.\r\n",
    "# -> 10, 0.1, 1"
   ],
   "outputs": [],
   "metadata": {}
  },
  {
   "cell_type": "code",
   "execution_count": null,
   "source": [
    "#Question 7\r\n",
    "# Looking at the two figures (Figure A, Figure B), determine which linear model each figure corresponds to:\r\n",
    "# -> Figure A: Ridge Regression, Figure B: Lasso Regression"
   ],
   "outputs": [],
   "metadata": {}
  },
  {
   "cell_type": "code",
   "execution_count": null,
   "source": [
    "#Question 8\r\n",
    "# Looking at Figure A and B, what is a value of alpha that optimizes the R2 score for the Ridge Model?\r\n",
    "# -> 3"
   ],
   "outputs": [],
   "metadata": {}
  },
  {
   "cell_type": "code",
   "execution_count": null,
   "source": [
    "#Question 9\r\n",
    "# Looking at Figure A and B, what is a value of alpha that optimizes the R2 score for the Lasso Model?\r\n",
    "# -> 10"
   ],
   "outputs": [],
   "metadata": {}
  },
  {
   "cell_type": "code",
   "execution_count": null,
   "source": [
    "#Question 10\r\n",
    "# When running a LinearRegression() model with default parameters on the same data that generated Figures A and B the output coefficients are:\r\n",
    "# -> 0"
   ],
   "outputs": [],
   "metadata": {}
  },
  {
   "cell_type": "code",
   "execution_count": null,
   "source": [
    "#Question 11\r\n",
    "# Which of the following is true of cross-validation? (Select all that apply)\r\n",
    "# -> Fits multiple models on different splits of the data\r\n",
    "# -> Increases generalization ability and reduces computational complexity\r\n",
    "#- > Helps prevent knowledge about the test set from leaking into the model"
   ],
   "outputs": [],
   "metadata": {}
  }
 ],
 "metadata": {
  "orig_nbformat": 4,
  "language_info": {
   "name": "python"
  }
 },
 "nbformat": 4,
 "nbformat_minor": 2
}