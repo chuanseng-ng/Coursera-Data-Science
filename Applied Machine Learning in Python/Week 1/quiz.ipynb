{
 "cells": [
  {
   "cell_type": "code",
   "execution_count": null,
   "source": [
    "#Question 1\r\n",
    "# Training a model using labeled data and using this model to predict the labels for new data is known as ____________.\r\n",
    "# -> Supervised Learning"
   ],
   "outputs": [],
   "metadata": {}
  },
  {
   "cell_type": "code",
   "execution_count": null,
   "source": [
    "#Question 2\r\n",
    "# Modeling the features of an unlabeled dataset to find hidden structure is known as ____________.\r\n",
    "# -> Unsupervised Learning"
   ],
   "outputs": [],
   "metadata": {}
  },
  {
   "cell_type": "code",
   "execution_count": null,
   "source": [
    "#Question 3\r\n",
    "# Training a model using categorically labelled data to predict labels for new data is known as __________.\r\n",
    "# -> Classification"
   ],
   "outputs": [],
   "metadata": {}
  },
  {
   "cell_type": "code",
   "execution_count": null,
   "source": [
    "#Question 4\r\n",
    "# Training a model using labelled data where the labels are continuous quantities to predict labels for new data is known as __________.\r\n",
    "# -> Regression"
   ],
   "outputs": [],
   "metadata": {}
  },
  {
   "cell_type": "code",
   "execution_count": null,
   "source": [
    "#Question 5\r\n",
    "# Using the data for classes 0, 1, and 2 plotted below, what class would a KNeighborsClassifier classify the new point as for k = 1 and k = 3?\r\n",
    "# -> k=1: Class 1\r\n",
    "# -> k=3: Class 2"
   ],
   "outputs": [],
   "metadata": {}
  },
  {
   "cell_type": "code",
   "execution_count": null,
   "source": [
    "#Question 6\r\n",
    "# Which of the following is true for the nearest neighbor classifier (Select all that apply):\r\n",
    "# -> Memorizes the entire training set"
   ],
   "outputs": [],
   "metadata": {}
  },
  {
   "cell_type": "code",
   "execution_count": null,
   "source": [
    "#Question 7\r\n",
    "# Why is it important to examine your dataset as a first step in applying machine learning? (Select all that apply):\r\n",
    "# -> See what type of cleaning or preprocessing still needs to be done\r\n",
    "# -> You might notice missing data\r\n",
    "# -> Gain insight on what machine learning model might be appropriate, if any\r\n",
    "# -> Get a sense for how difficult the problem might be"
   ],
   "outputs": [],
   "metadata": {}
  },
  {
   "cell_type": "code",
   "execution_count": null,
   "source": [
    "#Question 8\r\n",
    "# The key purpose of splitting the dataset into training and test sets is:\r\n",
    "# -> To estimate how well the learned model will generalize to new data"
   ],
   "outputs": [],
   "metadata": {}
  },
  {
   "cell_type": "code",
   "execution_count": null,
   "source": [
    "#Question 9\r\n",
    "# The purpose of setting the random_state parameter in train_test_split is: (Select all that apply)\r\n",
    "# -> To make experiments easily reproducible by always using the same partitioning of the data"
   ],
   "outputs": [],
   "metadata": {}
  },
  {
   "cell_type": "code",
   "execution_count": null,
   "source": [
    "#Question 10\r\n",
    "# Given a dataset with 10,000 observations and 50 features plus one label, what would be the dimensions of X_train, y_train, X_test, and y_test? Assume a train/test split of 75%/25%.\r\n",
    "# -> X_train: (7500, 50)\r\n",
    "# -> y_train: (7500, )\r\n",
    "# -> X_test: (2500, 50)\r\n",
    "# -> y_test: (2500, )"
   ],
   "outputs": [],
   "metadata": {}
  }
 ],
 "metadata": {
  "orig_nbformat": 4,
  "language_info": {
   "name": "python"
  }
 },
 "nbformat": 4,
 "nbformat_minor": 2
}