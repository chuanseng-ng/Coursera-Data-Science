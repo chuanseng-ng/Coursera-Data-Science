{
 "cells": [
  {
   "cell_type": "code",
   "execution_count": null,
   "source": [
    "#Question 1\r\n",
    "# Which of the following is an example of clustering?\r\n",
    "# -> Separate the data into distinct groups by similarity"
   ],
   "outputs": [],
   "metadata": {}
  },
  {
   "cell_type": "code",
   "execution_count": null,
   "source": [
    "#Question 2\r\n",
    "# Which of the following are advantages to using decision trees over other models? (Select all that apply)\r\n",
    "# -> Trees often require less preprocessing of data\r\n",
    "# -> Trees are easy to interpret and visualize"
   ],
   "outputs": [],
   "metadata": {}
  },
  {
   "cell_type": "code",
   "execution_count": null,
   "source": [
    "#Question 3\r\n",
    "# What is the main reason that each tree of a random forest only looks at a random subset of the features when building each node?\r\n",
    "# -> To improve generalization by reducing correlation among the trees and making the model more robust to bias"
   ],
   "outputs": [],
   "metadata": {}
  },
  {
   "cell_type": "code",
   "execution_count": null,
   "source": [
    "#Question 4\r\n",
    "# Which of the following supervised machine learning methods are greatly affected by feature scaling? (Select all that apply)\r\n",
    "# -> Neural Networks\r\n",
    "# -> KNN\r\n",
    "# -> Support Vector Machines"
   ],
   "outputs": [],
   "metadata": {}
  },
  {
   "cell_type": "code",
   "execution_count": null,
   "source": [
    "#Question 5\r\n",
    "# Select which of the following statements are true\r\n",
    "# -> For a model that won't overfit a training set, Naive Bayes would be a better choice than a decision tree\r\n",
    "# -> For predicting future sales of a clothing line, Linear regression would be a better choice than a decision tree regressor"
   ],
   "outputs": [],
   "metadata": {}
  },
  {
   "cell_type": "code",
   "execution_count": null,
   "source": [
    "#Question 6\r\n",
    "# Match each of the prediciton probabilities decision boundaries visualized below with the model that created them\r\n",
    "# -> Neural Network\r\n",
    "# -> KNN (k=1)\r\n",
    "# -> Decision Tree"
   ],
   "outputs": [],
   "metadata": {}
  },
  {
   "cell_type": "code",
   "execution_count": null,
   "source": [
    "#Question 7\r\n",
    "# A decision tree of depth 2 is visualized below. Using the `value` attribute of each leaf, find the accuracy score for the tree of depth 2 and the accuracy score for a tree of depth 1\r\n",
    "# What is the improvment in accuracy between the model of depth 1 and the model of depth 2?\r\n",
    "# -> 0.06745"
   ],
   "outputs": [],
   "metadata": {}
  },
  {
   "cell_type": "code",
   "execution_count": null,
   "source": [
    "#Question 8\r\n",
    "# For the autograded assignment in this module, you will create a classifier to predict whether a given blight ticket will be paid on time\r\n",
    "# Which of the following features should be removed from the training of the model to prevent data leakage?\r\n",
    "# -> collection_status - Flag for payments in collections\r\n",
    "# -> compilance_detail - More information on why each ticket was marked compliant or non-compliant\r\n"
   ],
   "outputs": [],
   "metadata": {}
  },
  {
   "cell_type": "code",
   "execution_count": null,
   "source": [
    "#Question 9\r\n",
    "# Which of the following might be good ways to help prevent a data leakage situation?\r\n",
    "# -> If time is a factor, remove any data related to the event of interest that doesn't take place prior to the event\r\n",
    "# -> Remove variables that a model in production wouldn't have access to\r\n",
    "# -> Sanity check the model with an unseen validation set"
   ],
   "outputs": [],
   "metadata": {}
  },
  {
   "cell_type": "code",
   "execution_count": null,
   "source": [
    "#Question 10\r\n",
    "# Given the neural network below, find the correct outputs for the given values of x1 and x2.\r\n",
    "# The neurons that are shaded have an activation threshold, e.g. the neuron with >1? will be activated and output 1 if the input is greater than 1 and will output 0 otherwise.\r\n",
    "# -> x1 x2 output\r\n",
    "# -> 0  0  0\r\n",
    "# -> 0  1  1\r\n",
    "# -> 1  0  1\r\n",
    "# -> 1  1  0"
   ],
   "outputs": [],
   "metadata": {}
  }
 ],
 "metadata": {
  "orig_nbformat": 4,
  "language_info": {
   "name": "python"
  }
 },
 "nbformat": 4,
 "nbformat_minor": 2
}