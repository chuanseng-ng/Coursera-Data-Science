{
 "cells": [
  {
   "cell_type": "code",
   "execution_count": null,
   "source": [
    "#Question 1\r\n",
    "# Suppose P(k) denotes the degree distribution of the following network, what is the value of P(2) + P(3)?\r\n",
    "#-> 1/2"
   ],
   "outputs": [],
   "metadata": {}
  },
  {
   "cell_type": "code",
   "execution_count": null,
   "source": [
    "#Question 2\r\n",
    "# Let P(k) denote the in-degree distribution of the given network below.\r\n",
    "# What value of k gives the highest value of P(k)?\r\n",
    "#-> 1"
   ],
   "outputs": [],
   "metadata": {}
  },
  {
   "cell_type": "code",
   "execution_count": null,
   "source": [
    "#Question 3\r\n",
    "# Select all that apply\r\n",
    "#-> If we draw a power law distribution in log-log scale, the distribution will look like a straight line\r\n",
    "#-> The Preferential Attachment Model generates a network with a power law degree distribution"
   ],
   "outputs": [],
   "metadata": {}
  },
  {
   "cell_type": "code",
   "execution_count": null,
   "source": [
    "#Question 4 => (Incorrect)\r\n",
    "# Select all that apply\r\n",
    "#-> In the small-world model starting with k nearest neighbors, increasing the rewiring probability p generally decreases both the average clustering coefficient and average shortest path\r\n",
    "#-> The degree distribution of small-world networks follows power-law distribution"
   ],
   "outputs": [],
   "metadata": {}
  },
  {
   "cell_type": "code",
   "execution_count": null,
   "source": [
    "#Question 5\r\n",
    "# Suppose we want to generate several small-world networks with k nearest neighbors and rewiring probability p.\r\n",
    "# If p remains the same and we increase k, which best describes the variation of average local clustering coefficient and average shortest path?\r\n",
    "#-> Average local clustering coefficient will increase and average shortest path will decrease"
   ],
   "outputs": [],
   "metadata": {}
  },
  {
   "cell_type": "code",
   "execution_count": null,
   "source": [
    "#Question 6\r\n",
    "# Based on the network below, suppose we want to apply the common neighbors measure to add an edge from node H, which is the most probable node to connect to H?\r\n",
    "#-> A"
   ],
   "outputs": [],
   "metadata": {}
  },
  {
   "cell_type": "code",
   "execution_count": null,
   "source": [
    "#Question 7\r\n",
    "# Based on the network below, what is the Jaccard coefficient of nodes D and C?\r\n",
    "#-> 0.40"
   ],
   "outputs": [],
   "metadata": {}
  },
  {
   "cell_type": "code",
   "execution_count": null,
   "source": [
    "#Question 8\r\n",
    "# Based on the network below, if we apply Resource Allocation method to predict the new edges, what is the value of Resource Allocation index of nodes C and D?\r\n",
    "#-> 0.83"
   ],
   "outputs": [],
   "metadata": {}
  },
  {
   "cell_type": "code",
   "execution_count": null,
   "source": [
    "#Question 9\r\n",
    "# Based on the network below, what is the preferential attachment score of nodes C and D?\r\n",
    "#-> 10"
   ],
   "outputs": [],
   "metadata": {}
  },
  {
   "cell_type": "code",
   "execution_count": null,
   "source": [
    "#Question 10\r\n",
    "# Assume there are two communities in this network: {A, B, C, D, G} and {E, F, H}.\r\n",
    "# Which of the following statements is(are) True? Select all that apply\r\n",
    "#-> The Common Neighbor Soundarajan-Hopcroft score of node A and node G is 4\r\n",
    "#-> The Resource Allocation Soundarajan-Hopcroft score of node A and node G is 0.7"
   ],
   "outputs": [],
   "metadata": {}
  }
 ],
 "metadata": {
  "orig_nbformat": 4,
  "language_info": {
   "name": "python"
  }
 },
 "nbformat": 4,
 "nbformat_minor": 2
}