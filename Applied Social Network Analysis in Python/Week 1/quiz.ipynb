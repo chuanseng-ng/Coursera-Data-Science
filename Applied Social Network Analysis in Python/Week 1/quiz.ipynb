{
 "cells": [
  {
   "cell_type": "code",
   "execution_count": null,
   "source": [
    "#Question 1 => (Incorrect)\r\n",
    "# Select all the true statements below\r\n",
    "#-> Weighted networks are used to describe networks with unequal relationships between nodes\r\n",
    "#-> An undirected graph is a good choice to present a network with asymmetric relationships between nodes\r\n",
    "#-> When there are only two opposite relationships between nodes, a signed network is a good representation"
   ],
   "outputs": [],
   "metadata": {}
  },
  {
   "cell_type": "code",
   "execution_count": null,
   "source": [
    "#Question 2\r\n",
    "# A network that has parallel edges (a pair of nodes with different types of concurrent relationships) is called a ______\r\n",
    "#-> Multigraph"
   ],
   "outputs": [],
   "metadata": {}
  },
  {
   "cell_type": "code",
   "execution_count": null,
   "source": [
    "#Question 3\r\n",
    "# Suppose we want to plot a network representing a small food web for students in a biology class. \r\n",
    "# In order to give them a better understanding of the network, we want to show who is the predator and who is the prey. \r\n",
    "# For those predators who have multiple options for prey, we also want to represent the predator’s preferences \r\n",
    "# (i.e. which prey it likes most or second most). Choose the most appropriate type of network. \r\n",
    "#-> Directed Weighted Network"
   ],
   "outputs": [],
   "metadata": {}
  },
  {
   "cell_type": "code",
   "execution_count": null,
   "source": [
    "#Question 4\r\n",
    "# Select all true statements\r\n",
    "#-> Edges can carry many labels or attributes\r\n",
    "#-> Accessing node of edge attributes in NetworkX is the same as accessing values in a Python dictionary\r\n",
    "#-> Suppose we have created a nx.Graph()object G with some nodes and edge. The statement G.nodes(data=True) will return a list of tuples"
   ],
   "outputs": [],
   "metadata": {}
  },
  {
   "cell_type": "code",
   "execution_count": null,
   "source": [
    "#Question 5\r\n",
    "# Based on the following lines of code, what is the type of G.edge['A']['C']?\r\n",
    "## import networkx as nx\r\n",
    "## \r\n",
    "## G=nx.MultiGraph()\r\n",
    "## G.add_node('A',role='manager')\r\n",
    "## G.add_edge('A','B',relation = 'friend')\r\n",
    "## G.add_edge('A','C', relation = 'business partner')\r\n",
    "## G.add_edge('A','B', relation = 'classmate')\r\n",
    "## G.node['A']['role'] = 'team member'\r\n",
    "## G.node['B']['role'] = 'engineer'\r\n",
    "#-> Dictionary"
   ],
   "outputs": [],
   "metadata": {}
  },
  {
   "cell_type": "code",
   "execution_count": null,
   "source": [
    "#Question 6\r\n",
    "# Based on the following lines of code, what is the correct statement to access the edge attribute \"friend\"?\r\n",
    "## import networkx as nx\r\n",
    "## \r\n",
    "## G=nx.MultiGraph()\r\n",
    "## G.add_node('A',role='manager')\r\n",
    "## G.add_edge('A','B',relation = 'friend')\r\n",
    "## G.add_edge('A','C', relation = 'business partner')\r\n",
    "## G.add_edge('A','B', relation = 'classmate')\r\n",
    "## G.node['A']['role'] = 'team member'\r\n",
    "## G.node['B']['role'] = 'engineer'\r\n",
    "#-> G.edge['A']['B'][0]['relation']"
   ],
   "outputs": [],
   "metadata": {}
  },
  {
   "cell_type": "code",
   "execution_count": null,
   "source": [
    "#Question 7\r\n",
    "# After all lines of code below are executed, what is(are) the role(s) of node A?\r\n",
    "## import networkx as nx\r\n",
    "## \r\n",
    "## G=nx.MultiGraph()\r\n",
    "## G.add_node('A',role='manager')\r\n",
    "## G.add_edge('A','B',relation = 'friend')\r\n",
    "## G.add_edge('A','C', relation = 'business partner')\r\n",
    "## G.add_edge('A','B', relation = 'classmate')\r\n",
    "## G.node['A']['role'] = 'team member'\r\n",
    "## G.node['B']['role'] = 'engineer'\r\n",
    "#-> Team member"
   ],
   "outputs": [],
   "metadata": {}
  },
  {
   "cell_type": "code",
   "execution_count": null,
   "source": [
    "#Question 8\r\n",
    "# Based on the bipartite network below, select all the edges you can add to the network while maintaining its bipartite structure.\r\n",
    "#-> (1, B)\r\n",
    "#-> (3, E)"
   ],
   "outputs": [],
   "metadata": {}
  },
  {
   "cell_type": "code",
   "execution_count": null,
   "source": [
    "#Question 9\r\n",
    "# Based on the bipartite network below, which of the following is the bipartite projection of the graph onto the set of circle nodes?\r\n",
    "#-> D"
   ],
   "outputs": [],
   "metadata": {}
  },
  {
   "cell_type": "code",
   "execution_count": null,
   "source": [
    "#Question 10\r\n",
    "# Based on this bipartite network, suppose you create a weighted bipartite projection of the graph onto the set of square nodes.\r\n",
    "# What is the weight of edge AC in the projection graph?\r\n",
    "#-> 3"
   ],
   "outputs": [],
   "metadata": {}
  }
 ],
 "metadata": {
  "orig_nbformat": 4,
  "language_info": {
   "name": "python"
  }
 },
 "nbformat": 4,
 "nbformat_minor": 2
}