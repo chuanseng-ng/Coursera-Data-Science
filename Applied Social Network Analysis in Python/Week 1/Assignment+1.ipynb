{
 "cells": [
  {
   "cell_type": "markdown",
   "source": [
    "---\n",
    "\n",
    "_You are currently looking at **version 1.1** of this notebook. To download notebooks and datafiles, as well as get help on Jupyter notebooks in the Coursera platform, visit the [Jupyter Notebook FAQ](https://www.coursera.org/learn/python-social-network-analysis/resources/yPcBs) course resource._\n",
    "\n",
    "---"
   ],
   "metadata": {}
  },
  {
   "cell_type": "markdown",
   "source": [
    "# Assignment 1 - Creating and Manipulating Graphs\n",
    "\n",
    "Eight employees at a small company were asked to choose 3 movies that they would most enjoy watching for the upcoming company movie night. These choices are stored in the file `Employee_Movie_Choices.txt`.\n",
    "\n",
    "A second file, `Employee_Relationships.txt`, has data on the relationships between different coworkers. \n",
    "\n",
    "The relationship score has value of `-100` (Enemies) to `+100` (Best Friends). A value of zero means the two employees haven't interacted or are indifferent.\n",
    "\n",
    "Both files are tab delimited."
   ],
   "metadata": {}
  },
  {
   "cell_type": "code",
   "execution_count": null,
   "source": [
    "import networkx as nx\r\n",
    "import pandas as pd\r\n",
    "import numpy as np\r\n",
    "from networkx.algorithms import bipartite\r\n",
    "\r\n",
    "\r\n",
    "# This is the set of employees\r\n",
    "employees = set(['Pablo',\r\n",
    "                 'Lee',\r\n",
    "                 'Georgia',\r\n",
    "                 'Vincent',\r\n",
    "                 'Andy',\r\n",
    "                 'Frida',\r\n",
    "                 'Joan',\r\n",
    "                 'Claude'])\r\n",
    "\r\n",
    "# This is the set of movies\r\n",
    "movies = set(['The Shawshank Redemption',\r\n",
    "              'Forrest Gump',\r\n",
    "              'The Matrix',\r\n",
    "              'Anaconda',\r\n",
    "              'The Social Network',\r\n",
    "              'The Godfather',\r\n",
    "              'Monty Python and the Holy Grail',\r\n",
    "              'Snakes on a Plane',\r\n",
    "              'Kung Fu Panda',\r\n",
    "              'The Dark Knight',\r\n",
    "              'Mean Girls'])\r\n",
    "\r\n",
    "\r\n",
    "# you can use the following function to plot graphs\r\n",
    "# make sure to comment it out before submitting to the autograder\r\n",
    "def plot_graph(G, weight_name=None):\r\n",
    "    '''\r\n",
    "    G: a networkx G\r\n",
    "    weight_name: name of the attribute for plotting edge weights (if G is weighted)\r\n",
    "    '''\r\n",
    "    %matplotlib notebook\r\n",
    "    import matplotlib.pyplot as plt\r\n",
    "    \r\n",
    "    plt.figure()\r\n",
    "    pos = nx.spring_layout(G)\r\n",
    "    edges = G.edges()\r\n",
    "    weights = None\r\n",
    "    \r\n",
    "    if weight_name:\r\n",
    "        weights = [int(G[u][v][weight_name]) for u,v in edges]\r\n",
    "        labels = nx.get_edge_attributes(G,weight_name)\r\n",
    "        nx.draw_networkx_edge_labels(G,pos,edge_labels=labels)\r\n",
    "        nx.draw_networkx(G, pos, edges=edges, width=weights);\r\n",
    "    else:\r\n",
    "        nx.draw_networkx(G, pos, edges=edges);"
   ],
   "outputs": [],
   "metadata": {
    "collapsed": true
   }
  },
  {
   "cell_type": "markdown",
   "source": [
    "### Question 1\n",
    "\n",
    "Using NetworkX, load in the bipartite graph from `Employee_Movie_Choices.txt` and return that graph.\n",
    "\n",
    "*This function should return a networkx graph with 19 nodes and 24 edges*"
   ],
   "metadata": {}
  },
  {
   "cell_type": "code",
   "execution_count": null,
   "source": [
    "def answer_one():\r\n",
    "        \r\n",
    "    G = nx.read_edgelist('Employee_Movie_Choices.txt', delimiter=\"\\t\")\r\n",
    "    \r\n",
    "    return G # Your Answer Here"
   ],
   "outputs": [],
   "metadata": {
    "collapsed": true
   }
  },
  {
   "cell_type": "markdown",
   "source": [
    "### Question 2\n",
    "\n",
    "Using the graph from the previous question, add nodes attributes named `'type'` where movies have the value `'movie'` and employees have the value `'employee'` and return that graph.\n",
    "\n",
    "*This function should return a networkx graph with node attributes `{'type': 'movie'}` or `{'type': 'employee'}`*"
   ],
   "metadata": {}
  },
  {
   "cell_type": "code",
   "execution_count": null,
   "source": [
    "def answer_two():\r\n",
    "    \r\n",
    "    # Your Code Here\r\n",
    "    G = answer_one()\r\n",
    "    for node in G.nodes():\r\n",
    "        if node in employees:\r\n",
    "            G.add_node(node, type=\"employee\")\r\n",
    "        else:\r\n",
    "            G.add_node(node, type=\"movie\")\r\n",
    "    \r\n",
    "    return G # Your Answer Here"
   ],
   "outputs": [],
   "metadata": {
    "collapsed": true
   }
  },
  {
   "cell_type": "markdown",
   "source": [
    "### Question 3\n",
    "\n",
    "Find a weighted projection of the graph from `answer_two` which tells us how many movies different pairs of employees have in common.\n",
    "\n",
    "*This function should return a weighted projected graph.*"
   ],
   "metadata": {
    "collapsed": true
   }
  },
  {
   "cell_type": "code",
   "execution_count": null,
   "source": [
    "def answer_three():\r\n",
    "        \r\n",
    "    # Your Code Here\r\n",
    "    B = answer_two()\r\n",
    "    weighted_projection = bipartite.weighted_projected_graph(B, employees)\r\n",
    "    \r\n",
    "    return weighted_projection # Your Answer Here"
   ],
   "outputs": [],
   "metadata": {
    "collapsed": true
   }
  },
  {
   "cell_type": "markdown",
   "source": [
    "### Question 4\n",
    "\n",
    "Suppose you'd like to find out if people that have a high relationship score also like the same types of movies.\n",
    "\n",
    "Find the Pearson correlation ( using `DataFrame.corr()` ) between employee relationship scores and the number of movies they have in common. If two employees have no movies in common it should be treated as a 0, not a missing value, and should be included in the correlation calculation.\n",
    "\n",
    "*This function should return a float.*"
   ],
   "metadata": {
    "collapsed": true
   }
  },
  {
   "cell_type": "code",
   "execution_count": null,
   "source": [
    "def answer_four():\r\n",
    "        \r\n",
    "    # Your Code Here\r\n",
    "    Rel = nx.read_edgelist('Employee_Relationships.txt', data=[('relationship_score', int)])\r\n",
    "    Rel_df = pd.DataFrame(Rel.edges(data=True), columns=['From', 'To', 'relationship_score'])\r\n",
    "    \r\n",
    "    G = answer_three()\r\n",
    "    G_df = pd.DataFrame(G.edges(data=True), columns=['From', 'To', 'movies_score'])\r\n",
    "    G_copy_df = G_df.copy()\r\n",
    "\r\n",
    "#     change the edge direction and get a double direction graph\r\n",
    "    G_copy_df.rename(columns={\"From\":\"From_\", \"To\":\"From\"}, inplace=True)\r\n",
    "    G_copy_df.rename(columns={\"From_\":\"To\"}, inplace=True)\r\n",
    "    \r\n",
    "    G_final_df = pd.concat([G_df, G_copy_df])\r\n",
    "    \r\n",
    "    final_df = pd.merge(G_final_df, Rel_df, on = ['From', 'To'], how='right')\r\n",
    "    final_df['movies_score'] = final_df['movies_score'].map(lambda x: x['weight'] if type(x)==dict else None)\r\n",
    "    final_df['relationship_score'] = final_df['relationship_score'].map(lambda x: x['relationship_score'])\r\n",
    "    final_df['movies_score'].fillna(value=0, inplace=True)\r\n",
    "    \r\n",
    "    return final_df['movie_score'].corr(final_df['relationship_score']) # Your Answer Here"
   ],
   "outputs": [],
   "metadata": {
    "collapsed": true
   }
  }
 ],
 "metadata": {
  "coursera": {
   "course_slug": "python-social-network-analysis",
   "graded_item_id": "YNa9b",
   "launcher_item_id": "hvNc1",
   "part_id": "VbyiB"
  },
  "kernelspec": {
   "name": "python3",
   "display_name": "Python 3.7.10 64-bit ('python3.7': conda)"
  },
  "language_info": {
   "codemirror_mode": {
    "name": "ipython",
    "version": 3
   },
   "file_extension": ".py",
   "mimetype": "text/x-python",
   "name": "python",
   "nbconvert_exporter": "python",
   "pygments_lexer": "ipython3",
   "version": "3.7.10"
  },
  "interpreter": {
   "hash": "35cea33c54675dba8a30cc331c96e2936fa9a8a6173fb4772d1750944adf2e97"
  }
 },
 "nbformat": 4,
 "nbformat_minor": 2
}