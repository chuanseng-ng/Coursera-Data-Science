{
 "cells": [
  {
   "cell_type": "code",
   "execution_count": null,
   "source": [
    "#Question 1\r\n",
    "# Consider the given network. What is the value of node F's local clustering coefficient?\r\n",
    "#-> 0.7"
   ],
   "outputs": [],
   "metadata": {}
  },
  {
   "cell_type": "code",
   "execution_count": null,
   "source": [
    "#Question 2\r\n",
    "# Given the following two networks, which of the following is True?\r\n",
    "#-> Network (A) has higher average local clustering coefficient but lower transitivity than (B)"
   ],
   "outputs": [],
   "metadata": {}
  },
  {
   "cell_type": "code",
   "execution_count": null,
   "source": [
    "#Question 3\r\n",
    "# Consider the network shown below and select all that apply.\r\n",
    "#-> The radius of this network is half of its diameter\r\n",
    "#-> The deletion of node G will make the network disconnected\r\n",
    "#-> If we perform Breadth-First Search (BFS) from node A, the BFS tree we obtain will have a depth of 4\r\n",
    "#-> The eccentricity of node B and C are equal"
   ],
   "outputs": [],
   "metadata": {}
  },
  {
   "cell_type": "code",
   "execution_count": null,
   "source": [
    "#Question 4\r\n",
    "# Select all that apply for the network below\r\n",
    "#-> It is a disconnected graph with 2 connected components\r\n",
    "#-> If edge (E, G) is removed, the number of connected components will not change\r\n",
    "#-> We can make the graph connected by adding edge (E, J)"
   ],
   "outputs": [],
   "metadata": {}
  },
  {
   "cell_type": "code",
   "execution_count": null,
   "source": [
    "#Question 5\r\n",
    "# Consider three networks (A), (B) and (C) below and select all that apply\r\n",
    "#-> Only network (B) is a strongly connected graph\r\n",
    "#-> We only need to add one directed edge in order to change network (C) to a strongly connected graph"
   ],
   "outputs": [],
   "metadata": {}
  },
  {
   "cell_type": "code",
   "execution_count": null,
   "source": [
    "#Question 6 => (Incorrect)\r\n",
    "# Which of the following is true about network robustness and connectivity? Select all that apply\r\n",
    "#-> The closure of an airport and the cancellation of a flight route are examples of two different kinds of network attacks in the real world\r\n",
    "#-> Adding more edges to a network always makes it more robust\r\n",
    "#-> A network that has a high average local clustering coefficient always has a high node connectivity\r\n",
    "#-> Network robustness measures a network's ability to maintain its connectivity\r\n",
    "#-> Adding edges to a network can never make the network elss robust"
   ],
   "outputs": [],
   "metadata": {}
  },
  {
   "cell_type": "code",
   "execution_count": null,
   "source": [
    "#Question 7\r\n",
    "# Consider the network given below\r\n",
    "# What is the node connectivity of the network?\r\n",
    "#-> 1"
   ],
   "outputs": [],
   "metadata": {}
  },
  {
   "cell_type": "code",
   "execution_count": null,
   "source": [
    "#Question 8\r\n",
    "# Consider the network given below\r\n",
    "# What is the edge connectivity of the network?\r\n",
    "#-> 2"
   ],
   "outputs": [],
   "metadata": {}
  },
  {
   "cell_type": "code",
   "execution_count": null,
   "source": [
    "#Question 9\r\n",
    "# The directed network below shows how information can be transferred between nodes.\r\n",
    "# For example, node A can pass the information to node C directly but not vice-versa.\r\n",
    "# If node C wants to send messages to node A, all data must be forwarded by node B.\r\n",
    "# What is the total nubmer of simple paths from node D to node K?\r\n",
    "#-> 8"
   ],
   "outputs": [],
   "metadata": {}
  },
  {
   "cell_type": "code",
   "execution_count": null,
   "source": [
    "#Question 10\r\n",
    "# The directed network below shows how information can be transferred between nodes.\r\n",
    "# For example, node A can pass the information to node C directly but not vice-versa.\r\n",
    "# If node C wants to send messages to node A, all data must be forwarded by node B.\r\n",
    "# Suppose we want to block all information channels from node E to node K.\r\n",
    "# Which of the following options achieves this goal?\r\n",
    "# Check all that apply.\r\n",
    "#-> Removing node F and H\r\n",
    "#-> Remvoving edge (H, K) and (E, F)"
   ],
   "outputs": [],
   "metadata": {}
  }
 ],
 "metadata": {
  "orig_nbformat": 4,
  "language_info": {
   "name": "python"
  }
 },
 "nbformat": 4,
 "nbformat_minor": 2
}