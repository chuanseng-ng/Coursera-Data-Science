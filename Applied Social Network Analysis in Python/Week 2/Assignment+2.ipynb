{
 "cells": [
  {
   "cell_type": "markdown",
   "source": [
    "---\n",
    "\n",
    "_You are currently looking at **version 1.2** of this notebook. To download notebooks and datafiles, as well as get help on Jupyter notebooks in the Coursera platform, visit the [Jupyter Notebook FAQ](https://www.coursera.org/learn/python-social-network-analysis/resources/yPcBs) course resource._\n",
    "\n",
    "---"
   ],
   "metadata": {}
  },
  {
   "cell_type": "markdown",
   "source": [
    "# Assignment 2 - Network Connectivity\n",
    "\n",
    "In this assignment you will go through the process of importing and analyzing an internal email communication network between employees of a mid-sized manufacturing company. \n",
    "Each node represents an employee and each directed edge between two nodes represents an individual email. The left node represents the sender and the right node represents the recipient."
   ],
   "metadata": {}
  },
  {
   "cell_type": "code",
   "execution_count": null,
   "source": [
    "import networkx as nx\r\n",
    "\r\n",
    "# This line must be commented out when submitting to the autograder\r\n",
    "#!head email_network.txt"
   ],
   "outputs": [],
   "metadata": {
    "collapsed": true
   }
  },
  {
   "cell_type": "markdown",
   "source": [
    "### Question 1\n",
    "\n",
    "Using networkx, load up the directed multigraph from `email_network.txt`. Make sure the node names are strings.\n",
    "\n",
    "*This function should return a directed multigraph networkx graph.*"
   ],
   "metadata": {}
  },
  {
   "cell_type": "code",
   "execution_count": null,
   "source": [
    "def answer_one():\r\n",
    "    \r\n",
    "    # Your Code Here\r\n",
    "    G = nx.read_edgelist('email_network.txt', delimiter='\\t', data=[('time', int)], create_using=nx.MultiDiGraph())\r\n",
    "    \r\n",
    "    return G # Your Answer Here"
   ],
   "outputs": [],
   "metadata": {
    "collapsed": true
   }
  },
  {
   "cell_type": "markdown",
   "source": [
    "### Question 2\n",
    "\n",
    "How many employees and emails are represented in the graph from Question 1?\n",
    "\n",
    "*This function should return a tuple (#employees, #emails).*"
   ],
   "metadata": {}
  },
  {
   "cell_type": "code",
   "execution_count": null,
   "source": [
    "def answer_two():\r\n",
    "        \r\n",
    "    # Your Code Here\r\n",
    "    G = answer_one()\r\n",
    "    \r\n",
    "    return len(G.nodes()), len(G.edges()) # Your Answer Here"
   ],
   "outputs": [],
   "metadata": {
    "collapsed": true
   }
  },
  {
   "cell_type": "markdown",
   "source": [
    "### Question 3\n",
    "\n",
    "* Part 1. Assume that information in this company can only be exchanged through email.\n",
    "\n",
    "    When an employee sends an email to another employee, a communication channel has been created, allowing the sender to provide information to the receiver, but not vice versa. \n",
    "\n",
    "    Based on the emails sent in the data, is it possible for information to go from every employee to every other employee?\n",
    "\n",
    "\n",
    "* Part 2. Now assume that a communication channel established by an email allows information to be exchanged both ways. \n",
    "\n",
    "    Based on the emails sent in the data, is it possible for information to go from every employee to every other employee?\n",
    "\n",
    "\n",
    "*This function should return a tuple of bools (part1, part2).*"
   ],
   "metadata": {}
  },
  {
   "cell_type": "code",
   "execution_count": null,
   "source": [
    "def answer_three():\r\n",
    "        \r\n",
    "    # Your Code Here\r\n",
    "    G = answer_one()\r\n",
    "    \r\n",
    "    return nx.is_strongly_connected(G), nx.is_connected(G.to_undirected()) # Your Answer Here"
   ],
   "outputs": [],
   "metadata": {
    "collapsed": true
   }
  },
  {
   "cell_type": "markdown",
   "source": [
    "### Question 4\n",
    "\n",
    "How many nodes are in the largest (in terms of nodes) weakly connected component?\n",
    "\n",
    "*This function should return an int.*"
   ],
   "metadata": {}
  },
  {
   "cell_type": "code",
   "execution_count": null,
   "source": [
    "def answer_four():\r\n",
    "        \r\n",
    "    # Your Code Here\r\n",
    "    G = answer_one()\r\n",
    "    wccs = nx.weakly_connected_components(G)\r\n",
    "    \r\n",
    "    return len(max(wccs, key=len)) # Your Answer Here"
   ],
   "outputs": [],
   "metadata": {
    "collapsed": true,
    "scrolled": true
   }
  },
  {
   "cell_type": "markdown",
   "source": [
    "### Question 5\n",
    "\n",
    "How many nodes are in the largest (in terms of nodes) strongly connected component?\n",
    "\n",
    "*This function should return an int*"
   ],
   "metadata": {}
  },
  {
   "cell_type": "code",
   "execution_count": null,
   "source": [
    "def answer_five():\r\n",
    "        \r\n",
    "    # Your Code Here\r\n",
    "    G = answer_one()\r\n",
    "    sccs = nx.strongly_connected_components(G)\r\n",
    "    \r\n",
    "    return len(max(sccs, key=len)) # Your Answer Here"
   ],
   "outputs": [],
   "metadata": {
    "collapsed": true
   }
  },
  {
   "cell_type": "markdown",
   "source": [
    "### Question 6\n",
    "\n",
    "Using the NetworkX function strongly_connected_component_subgraphs, find the subgraph of nodes in a largest strongly connected component. \n",
    "Call this graph G_sc.\n",
    "\n",
    "*This function should return a networkx MultiDiGraph named G_sc.*"
   ],
   "metadata": {}
  },
  {
   "cell_type": "code",
   "execution_count": null,
   "source": [
    "def answer_six():\r\n",
    "        \r\n",
    "    # Your Code Here\r\n",
    "    G = answer_one()\r\n",
    "    scc_subs = nx.strongly_connected_component_subgraphs(G)\r\n",
    "    G_sc = max(scc_subs, key=len)\r\n",
    "    \r\n",
    "    return G_sc # Your Answer Here"
   ],
   "outputs": [],
   "metadata": {
    "collapsed": true
   }
  },
  {
   "cell_type": "markdown",
   "source": [
    "### Question 7\n",
    "\n",
    "What is the average distance between nodes in G_sc?\n",
    "\n",
    "*This function should return a float.*"
   ],
   "metadata": {}
  },
  {
   "cell_type": "code",
   "execution_count": null,
   "source": [
    "def answer_seven():\r\n",
    "        \r\n",
    "    # Your Code Here\r\n",
    "    G = answer_six()\r\n",
    "    \r\n",
    "    return nx.average_shortest_path_length(G) # Your Answer Here"
   ],
   "outputs": [],
   "metadata": {
    "collapsed": true
   }
  },
  {
   "cell_type": "markdown",
   "source": [
    "### Question 8\n",
    "\n",
    "What is the largest possible distance between two employees in G_sc?\n",
    "\n",
    "*This function should return an int.*"
   ],
   "metadata": {}
  },
  {
   "cell_type": "code",
   "execution_count": null,
   "source": [
    "def answer_eight():\r\n",
    "        \r\n",
    "    # Your Code Here\r\n",
    "    G = answer_six()\r\n",
    "    \r\n",
    "    return nx.diameter(G) # Your Answer Here"
   ],
   "outputs": [],
   "metadata": {
    "collapsed": true
   }
  },
  {
   "cell_type": "markdown",
   "source": [
    "### Question 9\n",
    "\n",
    "What is the set of nodes in G_sc with eccentricity equal to the diameter?\n",
    "\n",
    "*This function should return a set of the node(s).*"
   ],
   "metadata": {}
  },
  {
   "cell_type": "code",
   "execution_count": null,
   "source": [
    "def answer_nine():\r\n",
    "       \r\n",
    "    # Your Code Here\r\n",
    "    G = answer_six()\r\n",
    "    \r\n",
    "    return set(nx.periphery(G)) # Your Answer Here"
   ],
   "outputs": [],
   "metadata": {
    "collapsed": true
   }
  },
  {
   "cell_type": "markdown",
   "source": [
    "### Question 10\n",
    "\n",
    "What is the set of node(s) in G_sc with eccentricity equal to the radius?\n",
    "\n",
    "*This function should return a set of the node(s).*"
   ],
   "metadata": {}
  },
  {
   "cell_type": "code",
   "execution_count": null,
   "source": [
    "def answer_ten():\r\n",
    "        \r\n",
    "    # Your Code Here\r\n",
    "    G = answer_six()\r\n",
    "    \r\n",
    "    return set(nx.center(G)) # Your Answer Here"
   ],
   "outputs": [],
   "metadata": {
    "collapsed": true
   }
  },
  {
   "cell_type": "markdown",
   "source": [
    "### Question 11\n",
    "\n",
    "Which node in G_sc is connected to the most other nodes by a shortest path of length equal to the diameter of G_sc?\n",
    "\n",
    "How many nodes are connected to this node?\n",
    "\n",
    "\n",
    "*This function should return a tuple (name of node, number of satisfied connected nodes).*"
   ],
   "metadata": {}
  },
  {
   "cell_type": "code",
   "execution_count": null,
   "source": [
    "def answer_eleven():\r\n",
    "        \r\n",
    "    # Your Code Here\r\n",
    "    G = answer_six()\r\n",
    "    d = nx.diameter(G)\r\n",
    "    peripheries = nx.periphery(G)\r\n",
    "    max_count = -1\r\n",
    "    result_node = None\r\n",
    "    for node in peripheries:\r\n",
    "        count = 0\r\n",
    "        sp = nx.shortest_path_length(G, node)\r\n",
    "        for key, value in sp.items():\r\n",
    "            if value == d:\r\n",
    "                count += 1        \r\n",
    "        if count > max_count:\r\n",
    "            result_node = node\r\n",
    "            max_count = count\r\n",
    "    \r\n",
    "    return result_node, max_count # Your Answer Here"
   ],
   "outputs": [],
   "metadata": {
    "collapsed": true
   }
  },
  {
   "cell_type": "markdown",
   "source": [
    "### Question 12\n",
    "\n",
    "Suppose you want to prevent communication from flowing to the node that you found in the previous question from any node in the center of G_sc, what is the smallest number of nodes you would need to remove from the graph (you're not allowed to remove the node from the previous question or the center nodes)? \n",
    "\n",
    "*This function should return an integer.*"
   ],
   "metadata": {}
  },
  {
   "cell_type": "code",
   "execution_count": null,
   "source": [
    "def answer_twelve():\r\n",
    "        \r\n",
    "    # Your Code Here\r\n",
    "    G = answer_six()\r\n",
    "    center = nx.center(G)[0]\r\n",
    "    node = answer_eleven()[0]\r\n",
    "    \r\n",
    "    return len(nx.minimum_node_cut(G, center, node)) # Your Answer Here"
   ],
   "outputs": [],
   "metadata": {
    "collapsed": true
   }
  },
  {
   "cell_type": "markdown",
   "source": [
    "### Question 13\n",
    "\n",
    "Construct an undirected graph G_un using G_sc (you can ignore the attributes).\n",
    "\n",
    "*This function should return a networkx Graph.*"
   ],
   "metadata": {}
  },
  {
   "cell_type": "code",
   "execution_count": null,
   "source": [
    "def answer_thirteen():\r\n",
    "        \r\n",
    "    # Your Code Here\r\n",
    "    G = answer_six()\r\n",
    "    undir_subgraph = G.to_undirected()\r\n",
    "    G_un = nx.Graph(undir_subgraph)\r\n",
    "    \r\n",
    "    return G_un # Your Answer Here"
   ],
   "outputs": [],
   "metadata": {
    "collapsed": true
   }
  },
  {
   "cell_type": "markdown",
   "source": [
    "### Question 14\n",
    "\n",
    "What is the transitivity and average clustering coefficient of graph G_un?\n",
    "\n",
    "*This function should return a tuple (transitivity, avg clustering).*"
   ],
   "metadata": {}
  },
  {
   "cell_type": "code",
   "execution_count": null,
   "source": [
    "def answer_fourteen():\r\n",
    "        \r\n",
    "    # Your Code Here\r\n",
    "    G = answer_thirteen()\r\n",
    "    \r\n",
    "    return nx.transitivity(G), nx.average_clustering(G) # Your Answer Here"
   ],
   "outputs": [],
   "metadata": {
    "collapsed": true
   }
  }
 ],
 "metadata": {
  "coursera": {
   "course_slug": "python-social-network-analysis",
   "graded_item_id": "jMCHR",
   "launcher_item_id": "7RsKp",
   "part_id": "E9gn5"
  },
  "kernelspec": {
   "display_name": "Python 3",
   "language": "python",
   "name": "python3"
  },
  "language_info": {
   "codemirror_mode": {
    "name": "ipython",
    "version": 3
   },
   "file_extension": ".py",
   "mimetype": "text/x-python",
   "name": "python",
   "nbconvert_exporter": "python",
   "pygments_lexer": "ipython3",
   "version": "3.6.2"
  }
 },
 "nbformat": 4,
 "nbformat_minor": 2
}