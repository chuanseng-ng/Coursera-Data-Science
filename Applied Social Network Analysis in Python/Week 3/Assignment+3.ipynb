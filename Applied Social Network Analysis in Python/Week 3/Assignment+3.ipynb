{
 "cells": [
  {
   "cell_type": "markdown",
   "source": [
    "---\n",
    "\n",
    "_You are currently looking at **version 1.2** of this notebook. To download notebooks and datafiles, as well as get help on Jupyter notebooks in the Coursera platform, visit the [Jupyter Notebook FAQ](https://www.coursera.org/learn/python-social-network-analysis/resources/yPcBs) course resource._\n",
    "\n",
    "---"
   ],
   "metadata": {}
  },
  {
   "cell_type": "markdown",
   "source": [
    "# Assignment 3\n",
    "\n",
    "In this assignment you will explore measures of centrality on two networks, a friendship network in Part 1, and a blog network in Part 2."
   ],
   "metadata": {}
  },
  {
   "cell_type": "markdown",
   "source": [
    "## Part 1\n",
    "\n",
    "Answer questions 1-4 using the network `G1`, a network of friendships at a university department. Each node corresponds to a person, and an edge indicates friendship. \n",
    "\n",
    "*The network has been loaded as networkx graph object `G1`.*"
   ],
   "metadata": {}
  },
  {
   "cell_type": "code",
   "execution_count": null,
   "source": [
    "import networkx as nx\r\n",
    "\r\n",
    "G1 = nx.read_gml('friendships.gml')"
   ],
   "outputs": [],
   "metadata": {
    "collapsed": true
   }
  },
  {
   "cell_type": "markdown",
   "source": [
    "### Question 1\n",
    "\n",
    "Find the degree centrality, closeness centrality, and normalized betweeness centrality (excluding endpoints) of node 100.\n",
    "\n",
    "*This function should return a tuple of floats `(degree_centrality, closeness_centrality, betweenness_centrality)`.*"
   ],
   "metadata": {}
  },
  {
   "cell_type": "code",
   "execution_count": null,
   "source": [
    "def answer_one():\r\n",
    "        \r\n",
    "    # Your Code Here\r\n",
    "    degree_centrality = nx.degree_centrality(G1)[100]\r\n",
    "    clsnss_centrality = nx.closeness_centrality(G1)[100]\r\n",
    "    btwn_centrality = nx.betweenness_centrality(G1, endpoints=False, normalized=True)[100]\r\n",
    "\r\n",
    "    return degree_centrality, clsnss_centrality, btwn_centrality # Your Answer Here"
   ],
   "outputs": [],
   "metadata": {
    "collapsed": true
   }
  },
  {
   "cell_type": "markdown",
   "source": [
    "<br>\n",
    "#### For Questions 2, 3, and 4, assume that you do not know anything about the structure of the network, except for the all the centrality values of the nodes. That is, use one of the covered centrality measures to rank the nodes and find the most appropriate candidate.\n",
    "<br>"
   ],
   "metadata": {}
  },
  {
   "cell_type": "markdown",
   "source": [
    "### Question 2\n",
    "\n",
    "Suppose you are employed by an online shopping website and are tasked with selecting one user in network G1 to send an online shopping voucher to. We expect that the user who receives the voucher will send it to their friends in the network.  You want the voucher to reach as many nodes as possible. The voucher can be forwarded to multiple users at the same time, but the travel distance of the voucher is limited to one step, which means if the voucher travels more than one step in this network, it is no longer valid. Apply your knowledge in network centrality to select the best candidate for the voucher. \n",
    "\n",
    "*This function should return an integer, the name of the node.*"
   ],
   "metadata": {}
  },
  {
   "cell_type": "code",
   "execution_count": null,
   "source": [
    "def answer_two():\r\n",
    "        \r\n",
    "    # Your Code Here\r\n",
    "    degree = nx.degree_centrality(G1)\r\n",
    "    max_node = None\r\n",
    "    max_degree = -1\r\n",
    "    for key, value in degree.items():\r\n",
    "        if value > max_degree:\r\n",
    "            max_degree = value\r\n",
    "            max_node = key\r\n",
    "    \r\n",
    "    return max_node # Your Answer Here"
   ],
   "outputs": [],
   "metadata": {
    "collapsed": true,
    "scrolled": true
   }
  },
  {
   "cell_type": "markdown",
   "source": [
    "### Question 3\n",
    "\n",
    "Now the limit of the voucher’s travel distance has been removed. Because the network is connected, regardless of who you pick, every node in the network will eventually receive the voucher. However, we now want to ensure that the voucher reaches the nodes in the lowest average number of hops.\n",
    "\n",
    "How would you change your selection strategy? Write a function to tell us who is the best candidate in the network under this condition.\n",
    "\n",
    "*This function should return an integer, the name of the node.*"
   ],
   "metadata": {}
  },
  {
   "cell_type": "code",
   "execution_count": null,
   "source": [
    "def answer_three():\r\n",
    "        \r\n",
    "    # Your Code Here\r\n",
    "    degree = nx.closeness_centrality(G1)\r\n",
    "    max_node = None\r\n",
    "    max_degree = -1\r\n",
    "    for key, value in degree.items():\r\n",
    "        if value > max_degree:\r\n",
    "            max_degree = value\r\n",
    "            max_node = key\r\n",
    "    \r\n",
    "    return max_node # Your Answer Here"
   ],
   "outputs": [],
   "metadata": {
    "collapsed": true,
    "scrolled": false
   }
  },
  {
   "cell_type": "markdown",
   "source": [
    "### Question 4\n",
    "\n",
    "Assume the restriction on the voucher’s travel distance is still removed, but now a competitor has developed a strategy to remove a person from the network in order to disrupt the distribution of your company’s voucher. Your competitor is specifically targeting people who are often bridges of information flow between other pairs of people. Identify the single riskiest person to be removed under your competitor’s strategy?\n",
    "\n",
    "*This function should return an integer, the name of the node.*"
   ],
   "metadata": {}
  },
  {
   "cell_type": "code",
   "execution_count": null,
   "source": [
    "def answer_four():\r\n",
    "        \r\n",
    "    # Your Code Here\r\n",
    "    degree = nx.betweenness_centrality(G1)\r\n",
    "    max_node = None\r\n",
    "    max_degree = -1\r\n",
    "    for key, value in degree.items():\r\n",
    "        if value > max_degree:\r\n",
    "            max_degree = value\r\n",
    "            max_node = key\r\n",
    "    \r\n",
    "    return max_node # Your Answer Here"
   ],
   "outputs": [],
   "metadata": {
    "collapsed": true
   }
  },
  {
   "cell_type": "markdown",
   "source": [
    "## Part 2\n",
    "\n",
    "`G2` is a directed network of political blogs, where nodes correspond to a blog and edges correspond to links between blogs. Use your knowledge of PageRank and HITS to answer Questions 5-9."
   ],
   "metadata": {
    "collapsed": true
   }
  },
  {
   "cell_type": "code",
   "execution_count": null,
   "source": [
    "G2 = nx.read_gml('blogs.gml')"
   ],
   "outputs": [],
   "metadata": {
    "collapsed": true
   }
  },
  {
   "cell_type": "markdown",
   "source": [
    "### Question 5\n",
    "\n",
    "Apply the Scaled Page Rank Algorithm to this network. Find the Page Rank of node 'realclearpolitics.com' with damping value 0.85.\n",
    "\n",
    "*This function should return a float.*"
   ],
   "metadata": {}
  },
  {
   "cell_type": "code",
   "execution_count": null,
   "source": [
    "def answer_five():\r\n",
    "        \r\n",
    "    # Your Code Here\r\n",
    "    pr = nx.pagerank(G2,alpha=0.85)\r\n",
    "    \r\n",
    "    return pr['realclearpolitics.com'] # Your Answer Here"
   ],
   "outputs": [],
   "metadata": {
    "collapsed": true
   }
  },
  {
   "cell_type": "markdown",
   "source": [
    "### Question 6\n",
    "\n",
    "Apply the Scaled Page Rank Algorithm to this network with damping value 0.85. Find the 5 nodes with highest Page Rank. \n",
    "\n",
    "*This function should return a list of the top 5 blogs in desending order of Page Rank.*"
   ],
   "metadata": {}
  },
  {
   "cell_type": "code",
   "execution_count": null,
   "source": [
    "def answer_six():\r\n",
    "        \r\n",
    "    # Your Code Here\r\n",
    "    import operator\r\n",
    "    pr = nx.pagerank(G2,alpha=0.85)\r\n",
    "    pr_list = sorted(pr.items(), key=operator.itemgetter(1), reverse=True)[0:5]\r\n",
    "    ans = []\r\n",
    "    for i in pr_list:\r\n",
    "        ans.append(i[0]) \r\n",
    "\r\n",
    "    return ans # Your Answer Here"
   ],
   "outputs": [],
   "metadata": {
    "collapsed": true
   }
  },
  {
   "cell_type": "markdown",
   "source": [
    "### Question 7\n",
    "\n",
    "Apply the HITS Algorithm to the network to find the hub and authority scores of node 'realclearpolitics.com'. \n",
    "\n",
    "*Your result should return a tuple of floats `(hub_score, authority_score)`.*"
   ],
   "metadata": {
    "collapsed": true
   }
  },
  {
   "cell_type": "code",
   "execution_count": null,
   "source": [
    "def answer_seven():\r\n",
    "        \r\n",
    "    # Your Code Here\r\n",
    "    hits = nx.hits(G2)\r\n",
    "    node = 'realclearpolitics.com'\r\n",
    "    print (len(hits))\r\n",
    "    \r\n",
    "    return hits[0][node], hits[1][node] # Your Answer Here"
   ],
   "outputs": [],
   "metadata": {
    "collapsed": true
   }
  },
  {
   "cell_type": "markdown",
   "source": [
    "### Question 8 \n",
    "\n",
    "Apply the HITS Algorithm to this network to find the 5 nodes with highest hub scores.\n",
    "\n",
    "*This function should return a list of the top 5 blogs in desending order of hub scores.*"
   ],
   "metadata": {
    "collapsed": true
   }
  },
  {
   "cell_type": "code",
   "execution_count": null,
   "source": [
    "def answer_eight():\r\n",
    "        \r\n",
    "    # Your Code Here\r\n",
    "    hits = nx.hits(G2)\r\n",
    "    hubs = hits[0]\r\n",
    "    \r\n",
    "    return sorted(hubs.keys(), key=lambda key:hubs[key], reverse=True)[:5] # Your Answer Here"
   ],
   "outputs": [],
   "metadata": {
    "collapsed": true
   }
  },
  {
   "cell_type": "markdown",
   "source": [
    "### Question 9 \n",
    "\n",
    "Apply the HITS Algorithm to this network to find the 5 nodes with highest authority scores.\n",
    "\n",
    "*This function should return a list of the top 5 blogs in desending order of authority scores.*"
   ],
   "metadata": {}
  },
  {
   "cell_type": "code",
   "execution_count": null,
   "source": [
    "def answer_nine():\r\n",
    "        \r\n",
    "    # Your Code Here\r\n",
    "    hits = nx.hits(G2)\r\n",
    "    authorities = hits[1]\r\n",
    "    \r\n",
    "    return sorted(authorities.keys(), key=lambda key:authorities[key], reverse=True)[:5] # Your Answer Here"
   ],
   "outputs": [],
   "metadata": {
    "collapsed": true
   }
  }
 ],
 "metadata": {
  "coursera": {
   "course_slug": "python-social-network-analysis",
   "graded_item_id": "4XCse",
   "launcher_item_id": "utvmz",
   "part_id": "cZ7Jg"
  },
  "kernelspec": {
   "display_name": "Python 3",
   "language": "python",
   "name": "python3"
  },
  "language_info": {
   "codemirror_mode": {
    "name": "ipython",
    "version": 3
   },
   "file_extension": ".py",
   "mimetype": "text/x-python",
   "name": "python",
   "nbconvert_exporter": "python",
   "pygments_lexer": "ipython3",
   "version": "3.6.2"
  }
 },
 "nbformat": 4,
 "nbformat_minor": 2
}