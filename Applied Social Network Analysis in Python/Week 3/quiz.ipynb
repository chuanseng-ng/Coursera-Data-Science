{
 "cells": [
  {
   "cell_type": "code",
   "execution_count": null,
   "source": [
    "#Question 1\r\n",
    "# Based on the network below, what is the degree centrality of node D?\r\n",
    "#-> 0.67"
   ],
   "outputs": [],
   "metadata": {}
  },
  {
   "cell_type": "code",
   "execution_count": null,
   "source": [
    "#Question 2\r\n",
    "# Based on the network below, what is the closeness centrality of node G?\r\n",
    "#-> 0.6"
   ],
   "outputs": [],
   "metadata": {}
  },
  {
   "cell_type": "code",
   "execution_count": null,
   "source": [
    "#Question 3\r\n",
    "# Based on the network below, what is the normalized betweenness centrality (excluding endpoints) of node G?\r\n",
    "#-> 0.33"
   ],
   "outputs": [],
   "metadata": {}
  },
  {
   "cell_type": "code",
   "execution_count": null,
   "source": [
    "#Question 4\r\n",
    "# Based on the network below, what is the betweenness centrality without normalization of edge (G, F)?\r\n",
    "#-> 6"
   ],
   "outputs": [],
   "metadata": {}
  },
  {
   "cell_type": "code",
   "execution_count": null,
   "source": [
    "#Question 5 => (Incorrect)\r\n",
    "# Select all True statements\r\n",
    "#-> The assumption of degree centrality is that important nodes have more connections\r\n",
    "#-> We can use subsets of node-pairs to approximate betweenness centrality"
   ],
   "outputs": [],
   "metadata": {}
  },
  {
   "cell_type": "code",
   "execution_count": null,
   "source": [
    "#Question 6 => (Incorrect)\r\n",
    "# Select all True statements about Page Rank (PR) and HITS in directed networks\r\n",
    "#-> Adding out-links of a node will always decrease its PR\r\n",
    "#-> The authority and hub-score of each node is obtained by computing multiple iterations of HITS algorithm and both scores of most networks are convergent"
   ],
   "outputs": [],
   "metadata": {}
  },
  {
   "cell_type": "code",
   "execution_count": null,
   "source": [
    "#Question 7\r\n",
    "# Given the network below, which value of alpha (damping parameter) listed below in the NetworkX function pagerank maximizes the PageRank of node D?\r\n",
    "#-> 0.95"
   ],
   "outputs": [],
   "metadata": {}
  },
  {
   "cell_type": "code",
   "execution_count": null,
   "source": [
    "#Question 8\r\n",
    "# Based on the network below, what is the basic PR of node C at step k = 1?\r\n",
    "#-> 0.625"
   ],
   "outputs": [],
   "metadata": {}
  },
  {
   "cell_type": "code",
   "execution_count": null,
   "source": [
    "#Question 9\r\n",
    "# Based on the network below, what are the corresponding normalized authority and hub scores of node C correspondingly after two iterations of HITS algorithm?\r\n",
    "#-> 0.57, 0.09"
   ],
   "outputs": [],
   "metadata": {}
  },
  {
   "cell_type": "code",
   "execution_count": null,
   "source": [
    "#Question 10\r\n",
    "# Based on the network below, which of the following is NOT True? Check all that apply\r\n",
    "#-> Node D's authority and hub score after k iterations (k >= 1) are always 0"
   ],
   "outputs": [],
   "metadata": {}
  }
 ],
 "metadata": {
  "orig_nbformat": 4,
  "language_info": {
   "name": "python"
  }
 },
 "nbformat": 4,
 "nbformat_minor": 2
}